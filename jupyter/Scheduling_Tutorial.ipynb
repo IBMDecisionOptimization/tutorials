{
 "cells": [
  {
   "cell_type": "markdown",
   "metadata": {},
   "source": [
    "# Tutorial: Getting started with *Scheduling* in CPLEX for Python"
   ]
  },
  {
   "cell_type": "markdown",
   "metadata": {},
   "source": [
    "This notebook introduces the basic building blocks of a scheduling model that can be solved using *Constraint Programming Optimizer* (named CP Optimizer in the following) that is included in *CPLEX for Python*. \n",
    "\n",
    "It is part of **[Prescriptive Analytics for Python](http://ibmdecisionoptimization.github.io/docplex-doc/)**\n",
    "\n",
    "It requires either an [installation of CPLEX Optimizers](http://ibmdecisionoptimization.github.io/docplex-doc/getting_started.html) or it can be run on [IBM Watson Studio Cloud](https://www.ibm.com/cloud/watson-studio/>) (Sign up for a [free IBM Cloud account](https://dataplatform.cloud.ibm.com/registration/stepone?context=wdp&apps=all>)\n",
    "and you can start using Watson Studio Cloud right away).\n",
    "\n",
    "To follow the examples in this section, some knowledge about optimization (math programming or constraint programming) and about modeling optimization problems is necessary.\n",
    "For beginners in optimization, following the online free Decision Optimization tutorials ([here](https://ibmdecisionoptimization.github.io/tutorials/html/Linear_Programming.html) and [here](https://ibmdecisionoptimization.github.io/tutorials/html/Beyond_Linear_Programming.html)) might help to get a better understanding of Mathematical Optimization.\n",
    "\n",
    "\n",
    "Each chapter of this notebook is a self-contained separate lesson.\n",
    "\n",
    "* [Chapter 1. Introduction to Scheduling](#Chapter 1. Introduction to Scheduling)\n",
    "* [Chapter 2. Modeling and solving a simple problem: house building](#Chapter-2.-Modeling-and-solving-a-simple-problem:-house-building)\n",
    "* [Chapter 3. Adding workers and transition times to the house building problem](#Chapter-3.-Adding-workers-and-transition-times-to-the-house-building-problem)\n",
    "* [Chapter 4. Adding calendars to the house building problem](#Chapter-4.-Adding-calendars-to-the-house-building-problem)\n",
    "* [Chapter 5. Using cumulative functions in the house building problem](#Chapter-5.-Using-cumulative-functions-in-the-house-building-problem)\n",
    "* [Chapter 6. Using alternative resources in the house building problem](#Chapter-6.-Using-alternative-resources-in-the-house-building-problem)\n",
    "* [Chapter 7. Using state functions: house building with state incompatibilities](#Chapter-7.-Using-state-functions:-house-building-with-state-incompatibilities)\n",
    "* [Summary](#Summary)\n",
    "* [References](#References)"
   ]
  },
  {
   "cell_type": "markdown",
   "metadata": {},
   "source": [
    "# Chapter 1. Introduction to Scheduling\n",
    "This chapter describes the basic characteristics of a scheduling program."
   ]
  },
  {
   "cell_type": "markdown",
   "metadata": {},
   "source": [
    "## Set up the model solving\n",
    "\n",
    "Solving capabilities are required to solve example models that are given in the following. \n",
    "There are several ways to solve a model:\n",
    "\n",
    "* Subscribe to the private cloud offer or Decision Optimization on Cloud solve service [here](https://developer.ibm.com/docloud).\n",
    "* Use Watson Studio Cloud that contain a pre-installed version of CPLEX Community Edition\n",
    "* Use a local solver, a licensed installation of [CPLEX Optimization Studio](https://www.ibm.com/bs-en/marketplace/ibm-ilog-cplex) to run the notebook locally.\n",
    "\n",
    "When using a cloud solving solution, the following attributes must be set with appropriate values: "
   ]
  },
  {
   "cell_type": "code",
   "execution_count": 1,
   "metadata": {},
   "outputs": [],
   "source": [
    "url = None\n",
    "key = None"
   ]
  },
  {
   "cell_type": "markdown",
   "metadata": {},
   "source": [
    "## Scheduling building blocks\n",
    "\n",
    "Scheduling is the act of creating a schedule, which is a timetable for planned occurrences. \n",
    "Scheduling may also involve allocating resources to activities over time. \n",
    "\n",
    "A scheduling problem can be viewed as a constraint satisfaction problem or as a constrained optimization problem. Regardless of how it is viewed, a scheduling problem is defined by:\n",
    "* A set of *time intervals*, to define activities, operations, or tasks to be completed\n",
    "* A set of *temporal constraints*, to define possible relationships between the start and end times of the intervals\n",
    "* A set of *specialized constraints*, to specify of the complex relationships on a set of intervals due to the state and finite capacity of resources."
   ]
  },
  {
   "cell_type": "markdown",
   "metadata": {},
   "source": [
    "## Creation of the model\n",
    "\n",
    "A scheduling model starts with the creation of the model container, as follows"
   ]
  },
  {
   "cell_type": "code",
   "execution_count": 2,
   "metadata": {},
   "outputs": [],
   "source": [
    "import sys\n",
    "from docplex.cp.model import *"
   ]
  },
  {
   "cell_type": "code",
   "execution_count": 3,
   "metadata": {},
   "outputs": [],
   "source": [
    "mdl0 = CpoModel()"
   ]
  },
  {
   "cell_type": "markdown",
   "metadata": {},
   "source": [
    "This code creates a CP model container that allows the use of constraints that are specific to constraint programming or to\n",
    "scheduling."
   ]
  },
  {
   "cell_type": "markdown",
   "metadata": {},
   "source": [
    "## Declarations of decision variables\n",
    "\n",
    "Variable declarations define the type of each variable in the model. For example, to create a variable that equals the amount of material shipped from location *i* to location *j*, a variable named *ship* can be created as follows:\n",
    "<code>\n",
    "   ship = [[integer_var(min=0) for j in range(N)] for i in range(N)]\n",
    "</code>"
   ]
  },
  {
   "cell_type": "markdown",
   "metadata": {},
   "source": [
    "This code declares an *array* (list of lists in Python) of non-negative integer decision variables; <code>ship[i][j]</code> is the decision variable handling the amount of material shipped from location *i* to location *j*.\n",
    "\n",
    "For scheduling there are specific additional decision variables, namely:\n",
    "  * *interval* variables\n",
    "  * *sequence* variables.\n",
    "\n",
    "*Activities*, *operations* and*tasks* are represented as interval decision variables.\n",
    "\n",
    "An interval has a *start*, a *end*, a *length*, and a *size*. An interval variable allows for these values to be variable within the model. \n",
    "The start is the lower endpoint of the interval and the end is the upper endpoint of the interval. \n",
    "By default, the size is equal to the length, which is the difference between the end and the start of the interval. \n",
    "In general, the size is a lower bound on the length.\n",
    "\n",
    "An interval variable may also be optional, and its presence in the solution is represented by a decision variable. \n",
    "If an interval is not present in the solution, this means that any constraints on this interval acts like the interval is “not there”.\n",
    "The exact semantics will depend on the specific constraint.\n",
    "\n",
    "The following example contains a dictionary of interval decision variables where the sizes of the interval variables are fixed and the keys are 2 dimensional:\n",
    "<code>\n",
    "   itvs = {(h,t) : mdl.interval_var(size = Duration[t]) for h in Houses for t in TaskNames}\n",
    "</code>"
   ]
  },
  {
   "cell_type": "markdown",
   "metadata": {},
   "source": [
    "## Objective function\n",
    "\n",
    "The objective function is an expression that has to be optimized. This function consists of variables and data that have been declared earlier in the model.\n",
    "The objective function is introduced by either the *minimize* or the *maximize* function. \n",
    "\n",
    "For example:\n",
    "<code>\n",
    "   mdl.minimize(mdl.endOf(tasks[\"moving\"]))\n",
    "</code>\n",
    "indicates that the end of the interval variable <code>tasks[\"moving\"]</code> needs to be minimized."
   ]
  },
  {
   "cell_type": "markdown",
   "metadata": {},
   "source": [
    "## Constraints\n",
    "\n",
    "The *constraints* indicate the conditions that are necessary for a feasible solution to the model.\n",
    "\n",
    "Several types of constraints can be placed on interval variables:\n",
    "* *precedence* constraints, which ensure that relative positions of intervals in the solution (For example a precedence constraint can model a requirement that an interval a must end before interval b starts, optionally with some minimum delay z);\n",
    "* *no overlap* constraints, which ensure that positions of intervals in the solution are disjointed in time;\n",
    "* *span* constraints, which ensure that one interval to cover those intervals in a set of intervals;\n",
    "* *alternative* constraints, which ensure that exactly one of a set of intervals be present in the solution;\n",
    "* *synchronize* constraints, which ensure that a set of intervals start and end at the same time as a given interval variable if it is present in the solution;\n",
    "* *cumulative expression* constraints, which restrict the bounds on the domains of cumulative expressions."
   ]
  },
  {
   "cell_type": "markdown",
   "metadata": {},
   "source": [
    "## Example\n",
    "This section provides a completed example model that can be tested."
   ]
  },
  {
   "cell_type": "markdown",
   "metadata": {},
   "source": [
    "The problem is a house building problem. There are ten tasks of fixed size, and each of them needs to be assigned a starting time. \n",
    "\n",
    "The statements for creating the interval variables that represent the tasks are:"
   ]
  },
  {
   "cell_type": "code",
   "execution_count": 4,
   "metadata": {},
   "outputs": [],
   "source": [
    "masonry = mdl0.interval_var(size=35)\n",
    "carpentry = mdl0.interval_var(size=15)\n",
    "plumbing = mdl0.interval_var(size=40)\n",
    "ceiling = mdl0.interval_var(size=15)\n",
    "roofing = mdl0.interval_var(size=5)\n",
    "painting = mdl0.interval_var(size=10)\n",
    "windows = mdl0.interval_var(size=5)\n",
    "facade = mdl0.interval_var(size=10)\n",
    "garden = mdl0.interval_var(size=5)\n",
    "moving = mdl0.interval_var(size=5)"
   ]
  },
  {
   "cell_type": "markdown",
   "metadata": {},
   "source": [
    "### Adding the constraints\n",
    "\n",
    "The constraints in this problem are precedence constraints; some tasks cannot start until other tasks have ended. \n",
    "For example, the *ceilings* must be completed before *painting* can begin. \n",
    "\n",
    "The set of precedence constraints for this problem can be added to the model with the block:"
   ]
  },
  {
   "cell_type": "code",
   "execution_count": 5,
   "metadata": {},
   "outputs": [],
   "source": [
    "mdl0.add( mdl0.end_before_start(masonry, carpentry) )\n",
    "mdl0.add( mdl0.end_before_start(masonry, plumbing) )\n",
    "mdl0.add( mdl0.end_before_start(masonry, ceiling) )\n",
    "mdl0.add( mdl0.end_before_start(carpentry, roofing) )\n",
    "mdl0.add( mdl0.end_before_start(ceiling, painting) )\n",
    "mdl0.add( mdl0.end_before_start(roofing, windows) )\n",
    "mdl0.add( mdl0.end_before_start(roofing, facade) )\n",
    "mdl0.add( mdl0.end_before_start(plumbing, facade) )\n",
    "mdl0.add( mdl0.end_before_start(roofing, garden) )\n",
    "mdl0.add( mdl0.end_before_start(plumbing, garden) )\n",
    "mdl0.add( mdl0.end_before_start(windows, moving) )\n",
    "mdl0.add( mdl0.end_before_start(facade, moving) )\n",
    "mdl0.add( mdl0.end_before_start(garden, moving) )\n",
    "mdl0.add( mdl0.end_before_start(painting, moving) )"
   ]
  },
  {
   "cell_type": "markdown",
   "metadata": {},
   "source": [
    "Here, the special constraint *end_before_start()* ensures that one interval variable ends before the other starts. \n",
    "If one of the interval variables is not present, the constraint is automatically satisfied."
   ]
  },
  {
   "cell_type": "markdown",
   "metadata": {},
   "source": [
    "### Calling the solve"
   ]
  },
  {
   "cell_type": "code",
   "execution_count": 6,
   "metadata": {},
   "outputs": [
    {
     "name": "stdout",
     "output_type": "stream",
     "text": [
      "\n",
      "Solving model....\n",
      "done\n"
     ]
    }
   ],
   "source": [
    "# Solve the model\n",
    "print(\"\\nSolving model....\")\n",
    "msol0 = mdl0.solve(url=url, key=key, TimeLimit=10)\n",
    "print(\"done\")"
   ]
  },
  {
   "cell_type": "markdown",
   "metadata": {},
   "source": [
    "### Displaying the solution\n",
    "\n",
    "The interval variables and precedence constraints completely describe this simple problem. \n",
    "\n",
    "Print statements display the solution, after values have been assigned to the start and end of each of the interval variables in the model."
   ]
  },
  {
   "cell_type": "code",
   "execution_count": 7,
   "metadata": {},
   "outputs": [
    {
     "name": "stdout",
     "output_type": "stream",
     "text": [
      "Masonry : 0..35\n",
      "Carpentry : 35..50\n",
      "Plumbing : 35..75\n",
      "Ceiling : 35..50\n",
      "Roofing : 50..55\n",
      "Painting : 50..60\n",
      "Windows : 55..60\n",
      "Facade : 75..85\n",
      "Moving : 85..90\n"
     ]
    }
   ],
   "source": [
    "var_sol = msol0.get_var_solution(masonry)\n",
    "print(\"Masonry : {}..{}\".format(var_sol.get_start(), var_sol.get_end()))\n",
    "var_sol = msol0.get_var_solution(carpentry)\n",
    "print(\"Carpentry : {}..{}\".format(var_sol.get_start(), var_sol.get_end()))\n",
    "var_sol = msol0.get_var_solution(plumbing)\n",
    "print(\"Plumbing : {}..{}\".format(var_sol.get_start(), var_sol.get_end()))\n",
    "var_sol = msol0.get_var_solution(ceiling)\n",
    "print(\"Ceiling : {}..{}\".format(var_sol.get_start(), var_sol.get_end()))\n",
    "var_sol = msol0.get_var_solution(roofing)\n",
    "print(\"Roofing : {}..{}\".format(var_sol.get_start(), var_sol.get_end()))\n",
    "var_sol = msol0.get_var_solution(painting)\n",
    "print(\"Painting : {}..{}\".format(var_sol.get_start(), var_sol.get_end()))\n",
    "var_sol = msol0.get_var_solution(windows)\n",
    "print(\"Windows : {}..{}\".format(var_sol.get_start(), var_sol.get_end()))\n",
    "var_sol = msol0.get_var_solution(facade)\n",
    "print(\"Facade : {}..{}\".format(var_sol.get_start(), var_sol.get_end()))\n",
    "var_sol = msol0.get_var_solution(moving)\n",
    "print(\"Moving : {}..{}\".format(var_sol.get_start(), var_sol.get_end()))"
   ]
  },
  {
   "cell_type": "markdown",
   "metadata": {},
   "source": [
    "To understand the solution found by *CP Optimizer* to this satisfiability scheduling problem, consider the line:\n",
    "<code>Masonry : 0..35</code>\n",
    "\n",
    "The interval variable representing the masonry task, which has size 35, has been assigned the interval [0,35). \n",
    "Masonry starts at time 0 and ends at the time point 35."
   ]
  },
  {
   "cell_type": "markdown",
   "metadata": {},
   "source": [
    "Graphical view of these tasks can be obtained with following additional code: "
   ]
  },
  {
   "cell_type": "code",
   "execution_count": 8,
   "metadata": {},
   "outputs": [],
   "source": [
    "import docplex.cp.utils_visu as visu\n",
    "import matplotlib.pyplot as plt\n",
    "%matplotlib inline\n",
    "#Change the plot size\n",
    "from pylab import rcParams\n",
    "rcParams['figure.figsize'] = 15, 3"
   ]
  },
  {
   "cell_type": "code",
   "execution_count": 9,
   "metadata": {},
   "outputs": [
    {
     "data": {
      "image/png": "[encoded data removed]",
      "text/plain": [
       "<Figure size 432x288 with 1 Axes>"
      ]
     },
     "metadata": {
      "needs_background": "light"
     },
     "output_type": "display_data"
    }
   ],
   "source": [
    "wt = msol0.get_var_solution(masonry)   \n",
    "visu.interval(wt, 'lightblue', 'masonry')   \n",
    "wt = msol0.get_var_solution(carpentry)   \n",
    "visu.interval(wt, 'lightblue', 'carpentry')\n",
    "wt = msol0.get_var_solution(plumbing)   \n",
    "visu.interval(wt, 'lightblue', 'plumbing')\n",
    "wt = msol0.get_var_solution(ceiling)   \n",
    "visu.interval(wt, 'lightblue', 'ceiling')\n",
    "wt = msol0.get_var_solution(roofing)   \n",
    "visu.interval(wt, 'lightblue', 'roofing')\n",
    "wt = msol0.get_var_solution(painting)   \n",
    "visu.interval(wt, 'lightblue', 'painting')\n",
    "wt = msol0.get_var_solution(windows)   \n",
    "visu.interval(wt, 'lightblue', 'windows')\n",
    "wt = msol0.get_var_solution(facade)   \n",
    "visu.interval(wt, 'lightblue', 'facade')\n",
    "wt = msol0.get_var_solution(moving)   \n",
    "visu.interval(wt, 'lightblue', 'moving')\n",
    "visu.show()"
   ]
  },
  {
   "cell_type": "markdown",
   "metadata": {},
   "source": [
    "##### Note on interval variables\n",
    "\n",
    "After a time interval has been assigned a start value (say s) and an end value (say e), the interval is written as [s,e). \n",
    "The time interval does not include the endpoint e. \n",
    "If another interval variable is constrained to be placed after this interval, it can start at the time e."
   ]
  },
  {
   "cell_type": "markdown",
   "metadata": {},
   "source": [
    "# Chapter 2. Modeling and solving house building with an objective"
   ]
  },
  {
   "cell_type": "markdown",
   "metadata": {},
   "source": [
    "This chapter presents the same *house building* example in such a manner that minimizes an objective.\n",
    "\n",
    "It intends to present how to:\n",
    "* use the *interval variable*,\n",
    "* use the constraint *endBeforeStart*,\n",
    "* use the expressions *startOf* and *endOf*.\n",
    "\n",
    "The objective to minimize is here the cost associated with performing specific tasks before a preferred earliest start date or after a preferred latest end date. \n",
    "Some tasks must necessarily take place before other tasks, and each task has a given duration. \n",
    "\n",
    "To find a solution to this problem, a three-stage method is used: *describe*, *model*, and *solve*."
   ]
  },
  {
   "cell_type": "markdown",
   "metadata": {},
   "source": [
    "## Problem to be solved\n",
    "\n",
    "The problem consists of assigning start dates to tasks in such a way that the resulting schedule satisfies precedence constraints and minimizes a criterion. \n",
    "The criterion for this problem is to minimize the earliness costs associated with starting certain tasks earlier than a given date, and tardiness costs associated with completing certain tasks later than a given date.\n",
    "\n",
    "For each task in the house building project, the following table shows the duration (measured in days) of the task along with the tasks that must finish before the task can start.\n",
    "\n",
    "**Note:**\n",
    "The unit of time represented by an interval variable is not defined. As a result, the size of the masonry task in this problem could be 35 hours or 35 weeks or 35 months."
   ]
  },
  {
   "cell_type": "markdown",
   "metadata": {},
   "source": [
    "House construction tasks:\n",
    "\n",
    "| Task      | Duration | Preceding tasks                   |\n",
    "|-----------|----------|-----------------------------------|\n",
    "| masonry   | 35       |                                   |\n",
    "| carpentry | 15       | masonry                           |\n",
    "| plumbing  | 40       | masonry                           |\n",
    "| ceiling   | 15       | masonry                           |\n",
    "| roofing   | 5        | carpentry                         |\n",
    "| painting  | 10       | ceiling                           |\n",
    "| windows   | 5        | roofing                           |\n",
    "| facade    | 10       | roofing, plumbing                 |\n",
    "| garden    | 5        | roofing, plumbing                 |\n",
    "| moving    | 5        | windows, facade, garden, painting |"
   ]
  },
  {
   "cell_type": "markdown",
   "metadata": {},
   "source": [
    "The other information for the problem includes the earliness and tardiness costs associated with some tasks."
   ]
  },
  {
   "cell_type": "markdown",
   "metadata": {},
   "source": [
    "House construction task earliness costs:\n",
    "    \n",
    "| Task      | Preferred earliest start date | Cost per day for starting early |\n",
    "|-----------|-------------------------------|---------------------------------|\n",
    "| masonry   | 25                            | 200.0                           |\n",
    "| carpentry | 75                            | 300.0                           |\n",
    "| ceiling   |75                             | 100.0                           |"
   ]
  },
  {
   "cell_type": "markdown",
   "metadata": {},
   "source": [
    "House construction task tardiness costs:\n",
    "    \n",
    "| Task   | Preferred latest end date | Cost per day for ending late |\n",
    "|--------|---------------------------|------------------------------|\n",
    "| moving | 100                       | 400.0                        |"
   ]
  },
  {
   "cell_type": "markdown",
   "metadata": {},
   "source": [
    "Solving the problem consists of identifying starting dates for the tasks such that the total cost, determined by the earliness and lateness costs, is minimized."
   ]
  },
  {
   "cell_type": "markdown",
   "metadata": {},
   "source": [
    "## Step 1: Describe the problem\n",
    "\n",
    "The first step in modeling the problem is to write a natural language description of the problem, identifying the decision variables and the constraints on these variables.\n",
    "\n",
    "Writing a natural language description of this problem requires to answer these questions:\n",
    "* What is the known information in this problem ?\n",
    "* What are the decision variables or unknowns in this problem ?\n",
    "* What are the constraints on these variables ?\n",
    "* What is the objective ?"
   ]
  },
  {
   "cell_type": "markdown",
   "metadata": {},
   "source": [
    "* *What is the known information in this problem ?*\n",
    "\n",
    "  There are ten house building tasks, each with a given duration. For each task,\n",
    "there is a list of tasks that must be completed before the task can start. Some\n",
    "tasks also have costs associated with an early start date or late end date.\n",
    "\n",
    "\n",
    "* *What are the decision variables or unknowns in this problem ?*\n",
    "\n",
    "  The unknowns are the date that each task will start. The cost is determined by the assigned start dates.\n",
    "\n",
    "\n",
    "* *What are the constraints on these variables ?*\n",
    "\n",
    "  In this case, each constraint specifies that a particular task may not begin until one or more given tasks have been completed.\n",
    "\n",
    "\n",
    "* *What is the objective ?*\n",
    "\n",
    "  The objective is to minimize the cost incurred through earliness and tardiness costs."
   ]
  },
  {
   "cell_type": "markdown",
   "metadata": {},
   "source": [
    "## Step 2: Declare the interval variables"
   ]
  },
  {
   "cell_type": "markdown",
   "metadata": {},
   "source": [
    "In the model, each task is represented by an interval variables. \n",
    "Each variable represents the unknown information, the scheduled interval for each activity. \n",
    "After the model is executed, the values assigned to these interval variables will represent the solution to the problem."
   ]
  },
  {
   "cell_type": "markdown",
   "metadata": {},
   "source": [
    "### Declaration of engine\n",
    "A scheduling model starts with the declaration of the engine as follows:"
   ]
  },
  {
   "cell_type": "code",
   "execution_count": 10,
   "metadata": {},
   "outputs": [],
   "source": [
    "import sys\n",
    "from docplex.cp.model import *\n",
    "\n",
    "mdl1 = CpoModel()"
   ]
  },
  {
   "cell_type": "markdown",
   "metadata": {},
   "source": [
    "The declaration of necessary interval variables is done as follows:"
   ]
  },
  {
   "cell_type": "code",
   "execution_count": 11,
   "metadata": {},
   "outputs": [],
   "source": [
    "masonry = mdl1.interval_var(size=35)\n",
    "carpentry = mdl1.interval_var(size=15)\n",
    "plumbing = mdl1.interval_var(size=40)\n",
    "ceiling = mdl1.interval_var(size=15)\n",
    "roofing = mdl1.interval_var(size=5)\n",
    "painting = mdl1.interval_var(size=10)\n",
    "windows = mdl1.interval_var(size=5)\n",
    "facade = mdl1.interval_var(size=10)\n",
    "garden = mdl1.interval_var(size=5)\n",
    "moving = mdl1.interval_var(size=5)"
   ]
  },
  {
   "cell_type": "markdown",
   "metadata": {},
   "source": [
    "## Step 3: Add the precedence constraints"
   ]
  },
  {
   "cell_type": "markdown",
   "metadata": {},
   "source": [
    "In this example, certain tasks can start only after other tasks have been completed.\n",
    "*CP Optimizer* allows to express constraints involving temporal relationships between pairs of interval variables using <i>precedence constraints</i>."
   ]
  },
  {
   "cell_type": "markdown",
   "metadata": {},
   "source": [
    "Precedence constraints are used to specify when an interval variable must start or end with respect to the start or end time of another interval variable. \n",
    "\n",
    "The following types of precedence constraints are available; if *a* and *b* denote interval variables, both interval variables are present, and *delay* is a number or integer expression (0 by default), then:\n",
    "* *end_before_end(a, b, delay)* constrains at least the given delay to elapse between the end of a and the end of b. It imposes the inequality endTime(a) + delay <= endTime(b).\n",
    "* *end_before_start(a, b, delay)* constrains at least the given delay to elapse between the end of a and the start of b. It imposes the inequality endTime(a) + delay <= startTime(b).\n",
    "* *end_at_end(a, b, delay)* constrains the given delay to separate the end of a and the end of ab. It imposes the equality endTime(a) + delay == endTime(b).\n",
    "* *end_at_start(a, b, delay)* constrains the given delay to separate the end of a and the start of b. It imposes the equality endTime(a) + delay == startTime(b).\n",
    "* *start_before_end(a, b, delay)* constrains at least the given delay to elapse between the start of a and the end of b. It imposes the inequality startTime(a) + delay <= endTime(b).\n",
    "* *start_before_start(a, b, delay)* constrains at least the given delay to elapse between the start of act1 and the start of act2. It imposes the inequality startTime(a) + delay <= startTime(b).\n",
    "* *start_at_end(a, b, delay)* constrains the given delay to separate the start of a and the end of b. It imposes the equality startTime(a) + delay == endTime(b).\n",
    "* *start_at_start(a, b, delay)* constrains the given delay to separate the start of a and the start of b. It imposes the equality startTime(a) + delay == startTime(b).\n",
    "\n",
    "If either interval *a* or *b* is not present in the solution, the constraint is automatically satisfied, and it is as if the constraint was never imposed."
   ]
  },
  {
   "cell_type": "markdown",
   "metadata": {},
   "source": [
    "For our model, precedence constraints can be added with the following code:"
   ]
  },
  {
   "cell_type": "code",
   "execution_count": 12,
   "metadata": {},
   "outputs": [],
   "source": [
    "mdl1.add( mdl1.end_before_start(masonry, carpentry) )\n",
    "mdl1.add( mdl1.end_before_start(masonry, plumbing) )\n",
    "mdl1.add( mdl1.end_before_start(masonry, ceiling) )\n",
    "mdl1.add( mdl1.end_before_start(carpentry, roofing) )\n",
    "mdl1.add( mdl1.end_before_start(ceiling, painting) )\n",
    "mdl1.add( mdl1.end_before_start(roofing, windows) )\n",
    "mdl1.add( mdl1.end_before_start(roofing, facade) )\n",
    "mdl1.add( mdl1.end_before_start(plumbing, facade) )\n",
    "mdl1.add( mdl1.end_before_start(roofing, garden) )\n",
    "mdl1.add( mdl1.end_before_start(plumbing, garden) )\n",
    "mdl1.add( mdl1.end_before_start(windows, moving) )\n",
    "mdl1.add( mdl1.end_before_start(facade, moving) )\n",
    "mdl1.add( mdl1.end_before_start(garden, moving) )\n",
    "mdl1.add( mdl1.end_before_start(painting, moving) )"
   ]
  },
  {
   "cell_type": "markdown",
   "metadata": {},
   "source": [
    "To model the cost for starting a task earlier than the preferred starting date, the expression *start_of()* can be used. \n",
    "It represents the start of an interval variable as an integer expression."
   ]
  },
  {
   "cell_type": "markdown",
   "metadata": {},
   "source": [
    "For each task that has an earliest preferred start date, the number of days before the preferred date it is scheduled to start can be determined using the expression *start_of()*.\n",
    "This expression can be negative if the task starts after the preferred date. \n",
    "Taking the maximum of this value and 0 using *max()* allows to determine how many days early the task is scheduled to start. \n",
    "Weighting this value with the cost per day of starting early determines the cost associated with the task.\n",
    "\n",
    "The cost for ending a task later than the preferred date is modeled in a similar manner using the expression *endOf()*. \n",
    "The earliness and lateness costs can be summed to determine the total cost."
   ]
  },
  {
   "cell_type": "markdown",
   "metadata": {},
   "source": [
    "## Step 4: Add the objective\n",
    "The objective function to be minimized can be written as follows:"
   ]
  },
  {
   "cell_type": "code",
   "execution_count": 13,
   "metadata": {},
   "outputs": [],
   "source": [
    "obj = mdl1.minimize(  400 * mdl1.max([mdl1.end_of(moving) - 100, 0]) \n",
    "                    + 200 * mdl1.max([25 - mdl1.start_of(masonry), 0]) \n",
    "                    + 300 * mdl1.max([75 - mdl1.start_of(carpentry), 0]) \n",
    "                    + 100 * mdl1.max([75 - mdl1.start_of(ceiling), 0]) )\n",
    "mdl1.add(obj)"
   ]
  },
  {
   "cell_type": "markdown",
   "metadata": {},
   "source": [
    "Solving a problem consists of finding a value for each decision variable so that all constraints are satisfied. \n",
    "It is not always know beforehand whether there is a solution that satisfies all the constraints of the problem. \n",
    "In some cases, there may be no solution. In other cases, there may be many solutions to a problem."
   ]
  },
  {
   "cell_type": "markdown",
   "metadata": {},
   "source": [
    "## Step 5: Solve the model and display the solution"
   ]
  },
  {
   "cell_type": "code",
   "execution_count": 14,
   "metadata": {},
   "outputs": [
    {
     "name": "stdout",
     "output_type": "stream",
     "text": [
      "\n",
      "Solving model....\n",
      "done\n"
     ]
    }
   ],
   "source": [
    "# Solve the model\n",
    "print(\"\\nSolving model....\")\n",
    "msol1 = mdl1.solve(url=url, key=key, TimeLimit=20)\n",
    "print(\"done\")"
   ]
  },
  {
   "cell_type": "code",
   "execution_count": 15,
   "metadata": {},
   "outputs": [
    {
     "name": "stdout",
     "output_type": "stream",
     "text": [
      "Cost will be 5000\n"
     ]
    }
   ],
   "source": [
    "print(\"Cost will be \" + str(msol1.get_objective_values()[0]))"
   ]
  },
  {
   "cell_type": "code",
   "execution_count": 16,
   "metadata": {},
   "outputs": [
    {
     "name": "stdout",
     "output_type": "stream",
     "text": [
      "Masonry : 20..55\n",
      "Carpentry : 75..90\n",
      "Plumbing : 55..95\n",
      "Ceiling : 75..90\n",
      "Roofing : 90..95\n",
      "Painting : 90..100\n",
      "Windows : 95..100\n",
      "Facade : 95..105\n",
      "Moving : 105..110\n"
     ]
    }
   ],
   "source": [
    "var_sol = msol1.get_var_solution(masonry)\n",
    "print(\"Masonry : {}..{}\".format(var_sol.get_start(), var_sol.get_end()))\n",
    "var_sol = msol1.get_var_solution(carpentry)\n",
    "print(\"Carpentry : {}..{}\".format(var_sol.get_start(), var_sol.get_end()))\n",
    "var_sol = msol1.get_var_solution(plumbing)\n",
    "print(\"Plumbing : {}..{}\".format(var_sol.get_start(), var_sol.get_end()))\n",
    "var_sol = msol1.get_var_solution(ceiling)\n",
    "print(\"Ceiling : {}..{}\".format(var_sol.get_start(), var_sol.get_end()))\n",
    "var_sol = msol1.get_var_solution(roofing)\n",
    "print(\"Roofing : {}..{}\".format(var_sol.get_start(), var_sol.get_end()))\n",
    "var_sol = msol1.get_var_solution(painting)\n",
    "print(\"Painting : {}..{}\".format(var_sol.get_start(), var_sol.get_end()))\n",
    "var_sol = msol1.get_var_solution(windows)\n",
    "print(\"Windows : {}..{}\".format(var_sol.get_start(), var_sol.get_end()))\n",
    "var_sol = msol1.get_var_solution(facade)\n",
    "print(\"Facade : {}..{}\".format(var_sol.get_start(), var_sol.get_end()))\n",
    "var_sol = msol1.get_var_solution(moving)\n",
    "print(\"Moving : {}..{}\".format(var_sol.get_start(), var_sol.get_end()))"
   ]
  },
  {
   "cell_type": "markdown",
   "metadata": {},
   "source": [
    "Graphical display of the same result is available with:"
   ]
  },
  {
   "cell_type": "code",
   "execution_count": 17,
   "metadata": {},
   "outputs": [],
   "source": [
    "import docplex.cp.utils_visu as visu\n",
    "import matplotlib.pyplot as plt\n",
    "%matplotlib inline\n",
    "#Change the plot size\n",
    "from pylab import rcParams\n",
    "rcParams['figure.figsize'] = 15, 3"
   ]
  },
  {
   "cell_type": "code",
   "execution_count": 18,
   "metadata": {},
   "outputs": [
    {
     "data": {
      "image/png": "[encoded data removed]",
      "text/plain": [
       "<Figure size 1080x216 with 1 Axes>"
      ]
     },
     "metadata": {
      "needs_background": "light"
     },
     "output_type": "display_data"
    }
   ],
   "source": [
    "wt = msol1.get_var_solution(masonry)   \n",
    "visu.interval(wt, 'lightblue', 'masonry')   \n",
    "wt = msol1.get_var_solution(carpentry)   \n",
    "visu.interval(wt, 'lightblue', 'carpentry')\n",
    "wt = msol1.get_var_solution(plumbing)   \n",
    "visu.interval(wt, 'lightblue', 'plumbing')\n",
    "wt = msol1.get_var_solution(ceiling)   \n",
    "visu.interval(wt, 'lightblue', 'ceiling')\n",
    "wt = msol1.get_var_solution(roofing)   \n",
    "visu.interval(wt, 'lightblue', 'roofing')\n",
    "wt = msol1.get_var_solution(painting)   \n",
    "visu.interval(wt, 'lightblue', 'painting')\n",
    "wt = msol1.get_var_solution(windows)   \n",
    "visu.interval(wt, 'lightblue', 'windows')\n",
    "wt = msol1.get_var_solution(facade)   \n",
    "visu.interval(wt, 'lightblue', 'facade')\n",
    "wt = msol1.get_var_solution(moving)   \n",
    "visu.interval(wt, 'lightblue', 'moving')\n",
    "visu.show()"
   ]
  },
  {
   "cell_type": "markdown",
   "metadata": {},
   "source": [
    "The overall cost is 5000 and moving will be completed by day 110."
   ]
  },
  {
   "cell_type": "markdown",
   "metadata": {},
   "source": [
    "# Chapter 3. Adding workers and transition times to the house building problem"
   ]
  },
  {
   "cell_type": "markdown",
   "metadata": {},
   "source": [
    "This chapter introduces workers and transition times to the house building problem described in the previous chapters. It allows to learn the following concepts:\n",
    "* use the interval variable *sequence*;\n",
    "* use the constraints *span* and *no_overlap*;\n",
    "* use the expression *length_of*.\n",
    "\n",
    "The problem to be solved is the scheduling of tasks involved in building *multiple* houses in a manner that minimizes the costs associated with completing each house after a given due date and with the length of time it takes to build each house. \n",
    "Some tasks must necessarily take place before other tasks, and each task has a predefined duration. \n",
    "Each house has an earliest starting date.\n",
    "Moreover, there are two workers, each of whom must perform a given subset of the necessary tasks, and there is a transition time associated with a worker transferring from one house to another house. \n",
    "A task, once started, cannot be interrupted. \n",
    "\n",
    "The objective is to minimize the cost, which is composed of tardiness costs for certain tasks as well as a cost associated with the length of time it takes to complete each house. "
   ]
  },
  {
   "cell_type": "markdown",
   "metadata": {},
   "source": [
    "## Problem to be solved"
   ]
  },
  {
   "cell_type": "markdown",
   "metadata": {},
   "source": [
    "The problem consists of assigning start dates to a set of tasks in such a way that the schedule satisfies temporal constraints and minimizes a criterion. \n",
    "The criterion for this problem is to minimize the tardiness costs associated with completing each house later than its specified due date and the cost associated with the length of time it takes to complete each house.\n",
    "\n",
    "For each type of task, the following table shows the duration of the task in days along with the tasks that must be finished before the task can start. \n",
    "In addition, each type of task must be performed by a specific worker, Jim or Joe. \n",
    "A worker can only work on one task at a time. \n",
    "A task, once started, may not be interrupted. \n",
    "The time required to transfer from one house to another house is determined by a function based on the location of the two houses."
   ]
  },
  {
   "cell_type": "markdown",
   "metadata": {},
   "source": [
    "The following table indicates these details for each task:\n",
    "\n",
    "| Task      | Duration | Worker | Preceding tasks   |\n",
    "|-----------|----------|--------|-------------------|\n",
    "| masonry   | 35       | Joe    |                   |\n",
    "| carpentry | 15       | Joe    | masonry           |\n",
    "| plumbing  | 40       | Jim    | masonry           |\n",
    "| ceiling   | 15       | Jim    | masonry           |\n",
    "| roofing   | 5        | Joe    | carpentry         |\n",
    "| painting  | 10       | Jim    | ceiling           |\n",
    "| windows   | 5        | Jim    | roofing           |\n",
    "| facade    | 10       | Joe    | roofing, plumbing |\n",
    "| garden    | 5        | Joe    | roofing, plumbing |\n",
    "| moving    | 5        | Jim    | windows, facade,garden, painting|"
   ]
  },
  {
   "cell_type": "markdown",
   "metadata": {},
   "source": [
    "For each of the five houses that must be built, there is an earliest starting date, a due date and a cost per day of completing the house later than the preferred due date."
   ]
  },
  {
   "cell_type": "markdown",
   "metadata": {},
   "source": [
    "The house construction tardiness costs is indicated in the following table:\n",
    "\n",
    "| House | Earliest start date | Preferred latest end date | Cost per day for ending late |\n",
    "|-------|---------------------|---------------------------|------------------------------|\n",
    "| 0     | 0                   | 120                       | 100.0                        |\n",
    "| 1     | 0                   | 212                       | 100.0                        |\n",
    "| 2     | 151                 | 304                       | 100.0                        |\n",
    "| 3     | 59                  | 181                       | 200.0                        |\n",
    "| 4     | 243                 | 425                       | 100.0                        |"
   ]
  },
  {
   "cell_type": "markdown",
   "metadata": {},
   "source": [
    "Solving the problem consists of determining starting dates for the tasks such that the cost, where the cost is determined by the lateness costs and length costs, is minimized."
   ]
  },
  {
   "cell_type": "markdown",
   "metadata": {},
   "source": [
    "## Step 1: Describe the problem\n",
    "\n",
    "* What is the known information in this problem ?\n",
    "\n",
    "    There are five houses to be built by two workers. For each house, there are ten house building tasks, each with a given duration, or size. Each house also has a given earliest starting date. For each task, there is a list of tasks that must be completed before the task can start. Each task must be performed by a given worker, and there is a transition time associated with a worker transferring from one house to another house. There are costs associated with completing eachhouse after its preferred due date and with the length of time it takes to complete each house.\n",
    "   \n",
    "   \n",
    "* What are the decision variables or unknowns in this problem ?\n",
    "\n",
    "   The unknowns are the start and end dates of the interval variables associated with the tasks. Once fixed, these interval variables also determine the cost of the solution. For some of the interval variables, there is a fixed minimum start date.\n",
    "\n",
    "\n",
    "* What are the constraints on these variables ?\n",
    "\n",
    "   There are constraints that specify a particular task may not begin until one or more given tasks have been completed. In addition, there are constraints that specify that a worker can be assigned to only one task at a time and that it takes time for a worker to travel from one house to the other.\n",
    "\n",
    "\n",
    "* What is the objective ?\n",
    "\n",
    "   The objective is to minimize the cost incurred through tardiness and length costs."
   ]
  },
  {
   "cell_type": "markdown",
   "metadata": {},
   "source": [
    "## Step2: Prepare data\n",
    "First coding step is to prepare model data:"
   ]
  },
  {
   "cell_type": "code",
   "execution_count": 19,
   "metadata": {},
   "outputs": [],
   "source": [
    "NbHouses = 5\n",
    "\n",
    "WorkerNames = [\"Joe\", \"Jim\"]\n",
    "\n",
    "TaskNames = [\"masonry\", \"carpentry\", \"plumbing\", \n",
    "             \"ceiling\", \"roofing\", \"painting\", \n",
    "             \"windows\", \"facade\", \"garden\", \"moving\"]\n",
    "\n",
    "Duration =  [35, 15, 40, 15, 5, 10, 5, 10, 5, 5]\n",
    "\n",
    "Worker = {\"masonry\"  : \"Joe\" , \n",
    "          \"carpentry\": \"Joe\" , \n",
    "          \"plumbing\" : \"Jim\" , \n",
    "          \"ceiling\"  : \"Jim\" , \n",
    "          \"roofing\"  : \"Joe\" , \n",
    "          \"painting\" : \"Jim\" , \n",
    "          \"windows\"  : \"Jim\" , \n",
    "          \"facade\"   : \"Joe\" , \n",
    "          \"garden\"   : \"Joe\" , \n",
    "          \"moving\"   : \"Jim\"}\n",
    "\n",
    "ReleaseDate = [  0,     0,   151,    59,   243]\n",
    "DueDate     = [120,   212,   304,   181,   425]\n",
    "Weight      = [100.0, 100.0, 100.0, 200.0, 100.0]\n",
    "\n",
    "Precedences = [(\"masonry\", \"carpentry\"),(\"masonry\", \"plumbing\"),\n",
    "               (\"masonry\", \"ceiling\"), (\"carpentry\", \"roofing\"),\n",
    "               (\"ceiling\", \"painting\"), (\"roofing\", \"windows\"),  \n",
    "               (\"roofing\", \"facade\"), (\"plumbing\", \"facade\"),\n",
    "               (\"roofing\", \"garden\"), (\"plumbing\", \"garden\"),\n",
    "               (\"windows\", \"moving\"), (\"facade\", \"moving\"),  \n",
    "               (\"garden\", \"moving\"), (\"painting\", \"moving\")]\n",
    "\n",
    "Houses = range(NbHouses)"
   ]
  },
  {
   "cell_type": "markdown",
   "metadata": {},
   "source": [
    "One part of the objective is based on the time it takes to build a house.\n",
    "To model this, one interval variable is used for each house, and is later constrained to span the tasks associated with the given house. \n",
    "As each house has an earliest starting date, and each house interval variable is declared to have a start date no earlier than that release date. \n",
    "The ending date of the task is not constrained, so the upper value of the range for the variable is maxint."
   ]
  },
  {
   "cell_type": "markdown",
   "metadata": {},
   "source": [
    "## Step 3: Create the house interval variables"
   ]
  },
  {
   "cell_type": "code",
   "execution_count": 20,
   "metadata": {},
   "outputs": [],
   "source": [
    "import sys\n",
    "from docplex.cp.model import *\n",
    "\n",
    "mdl2 = CpoModel()"
   ]
  },
  {
   "cell_type": "code",
   "execution_count": 21,
   "metadata": {},
   "outputs": [],
   "source": [
    "houses = [mdl2.interval_var(start=(ReleaseDate[i], INTERVAL_MAX), name=\"house\"+str(i)) for i in Houses]"
   ]
  },
  {
   "cell_type": "markdown",
   "metadata": {},
   "source": [
    "## Step 4: Create the task interval variables"
   ]
  },
  {
   "cell_type": "markdown",
   "metadata": {},
   "source": [
    "Each house has a list of tasks that must be scheduled. \n",
    "The duration, or size, of each task t is Duration[t]. \n",
    "This information allows to build the matrix *itvs* of interval variables."
   ]
  },
  {
   "cell_type": "code",
   "execution_count": 22,
   "metadata": {},
   "outputs": [],
   "source": [
    "TaskNames_ids = {}\n",
    "itvs = {}\n",
    "for h in Houses:\n",
    "    for i,t in enumerate(TaskNames):\n",
    "        _name = str(h)+\"_\"+str(t)\n",
    "        itvs[(h,t)] = mdl2.interval_var(size=Duration[i], name=_name)\n",
    "        TaskNames_ids[_name] = i"
   ]
  },
  {
   "cell_type": "markdown",
   "metadata": {},
   "source": [
    "## Step 5: Add the precedence constraints"
   ]
  },
  {
   "cell_type": "markdown",
   "metadata": {},
   "source": [
    "The tasks of the house building project have precedence constraints that are added to the model."
   ]
  },
  {
   "cell_type": "code",
   "execution_count": 23,
   "metadata": {},
   "outputs": [],
   "source": [
    "for h in Houses:\n",
    "    for p in Precedences:\n",
    "        mdl2.add(mdl2.end_before_start(itvs[(h,p[0])], itvs[(h,p[1])]) )"
   ]
  },
  {
   "cell_type": "markdown",
   "metadata": {},
   "source": [
    "To model the cost associated with the length of time it takes to build a single house, the interval variable associated with the house is constrained to start at the start of the first task of the house and end at the end of the last task. \n",
    "This interval variable must span the tasks.\n"
   ]
  },
  {
   "cell_type": "markdown",
   "metadata": {},
   "source": [
    "## Step 6: Add the span constraints"
   ]
  },
  {
   "cell_type": "markdown",
   "metadata": {},
   "source": [
    "The constraint *span* allows to specify that one interval variable must exactly cover a set of interval variables.\n",
    "In other words, the spanning interval is present in the solution if and only if at least one of the spanned interval variables is present and, in this case, the spanning interval variable starts at the start of the interval variable scheduled earliest in the set and ends at the end of the interval variable scheduled latest in the set.\n",
    "\n",
    "For house *h*, the interval variable *houses[h]* is constrained to cover the interval variables in *itvs* that are associated with the tasks of the given house."
   ]
  },
  {
   "cell_type": "code",
   "execution_count": 24,
   "metadata": {},
   "outputs": [],
   "source": [
    "for h in Houses:\n",
    "    mdl2.add( mdl2.span(houses[h], [itvs[(h,t)] for t in TaskNames] ) )"
   ]
  },
  {
   "cell_type": "markdown",
   "metadata": {},
   "source": [
    "## Step 7: Create the transition times"
   ]
  },
  {
   "cell_type": "markdown",
   "metadata": {},
   "source": [
    "Transition times can be modeled using tuples with three elements. \n",
    "The first element is the interval variable type of one task, the second is the interval variable type of the other task and the third element of the tuple is the transition time from the first to the second. \n",
    "An integer interval variable type can be associated with each interval variable.\n",
    "\n",
    "Given an interval variable *a1* that precedes (not necessarily directly) an interval variable *a2* in a sequence of non-overlapping interval variables, the transition time between *a1* and *a2* is an amount of time that must elapse between the end of *a1* and the beginning of *a2*."
   ]
  },
  {
   "cell_type": "code",
   "execution_count": 25,
   "metadata": {},
   "outputs": [],
   "source": [
    "transitionTimes = transition_matrix(NbHouses)\n",
    "for i in Houses:\n",
    "    for j in Houses:\n",
    "        transitionTimes.set_value(i, j, int(abs(i - j)))"
   ]
  },
  {
   "cell_type": "markdown",
   "metadata": {},
   "source": [
    "Each of the tasks requires a particular worker. \n",
    "As a worker can perform only one task at a time, it is necessary to know all of the tasks that a worker must perform and then constrain that these intervals not overlap and respect the transition times.\n",
    "A sequence variable represents the order in which the workers perform the tasks.\n",
    "\n",
    "Note that the sequence variable does not force the tasks to not overlap or the order of tasks. In a later step, a constraint is created that enforces these relations on the sequence of interval variables."
   ]
  },
  {
   "cell_type": "markdown",
   "metadata": {},
   "source": [
    "## Step 8: Create the sequence variables"
   ]
  },
  {
   "cell_type": "markdown",
   "metadata": {},
   "source": [
    "Using the decision variable type sequence, variable can be created to represent a sequence of interval variables. The sequence can contain a subset of the variables or be empty. \n",
    "In a solution, the sequence will represent a total order over all the intervals in the set that are present in the solution. \n",
    "The assigned order of interval variables in the sequence does not necessarily determine their relative positions in time in the schedule. \n",
    "The sequence variable takes an array of interval variables as well as the transition types for each of those variables. \n",
    "Interval sequence variables are created for Jim and Joe, using the arrays of their tasks and the task locations."
   ]
  },
  {
   "cell_type": "code",
   "execution_count": 26,
   "metadata": {},
   "outputs": [],
   "source": [
    "workers = {w : mdl2.sequence_var([ itvs[(h,t)] for h in Houses for t in TaskNames if Worker[t]==w ], \n",
    "                                types=[h for h in Houses for t in TaskNames if Worker[t]==w ], name=\"workers_\"+w)   \n",
    "           for w in WorkerNames}"
   ]
  },
  {
   "cell_type": "markdown",
   "metadata": {},
   "source": [
    "## Step 9: Add the no overlap constraint"
   ]
  },
  {
   "cell_type": "markdown",
   "metadata": {},
   "source": [
    "Now that the sequence variables have been created, each sequence must be constrained such that the interval variables do not overlap in the solution, that the transition times are respected, and that the sequence represents the relations of the interval variables in time. \n",
    "\n",
    "The constraint *no_overlap* allows to constrain an interval sequence variable to define a chain of non-overlapping intervals that are present in the solution. \n",
    "If a set of transition tuples is specified, it defines the minimal time that must elapse between two intervals in the chain.\n",
    "Note that intervals which are not present in the solution are automatically removed from the sequence.\n",
    "One no overlap constraint is created for the sequence interval variable for each worker."
   ]
  },
  {
   "cell_type": "code",
   "execution_count": 27,
   "metadata": {},
   "outputs": [],
   "source": [
    "for w in WorkerNames:\n",
    "    mdl2.add( mdl2.no_overlap(workers[w], transitionTimes) )"
   ]
  },
  {
   "cell_type": "markdown",
   "metadata": {},
   "source": [
    "The cost for building a house is the sum of the tardiness cost and the number of days it takes from start to finish building the house. \n",
    "To model the cost associated with a task being completed later than its preferred latest end date, the expression *endOf()* can be used to determine the end date of the house interval variable. \n",
    "To model the cost of the length of time it takes to build the house, the expression *lengthOf()* can be used, which returns an expression representing the length of an interval variable. "
   ]
  },
  {
   "cell_type": "markdown",
   "metadata": {},
   "source": [
    "## Step 10: Add the objective"
   ]
  },
  {
   "cell_type": "markdown",
   "metadata": {},
   "source": [
    "The objective of this problem is to minimize the cost as represented by the cost expression."
   ]
  },
  {
   "cell_type": "code",
   "execution_count": 28,
   "metadata": {},
   "outputs": [],
   "source": [
    "# create the obj and add it.\n",
    "mdl2.add( \n",
    "    mdl2.minimize( \n",
    "        mdl2.sum(Weight[h] * mdl2.max([0, mdl2.end_of(houses[h])-DueDate[h]]) + mdl2.length_of(houses[h]) for h in Houses) \n",
    "    ) \n",
    ")"
   ]
  },
  {
   "cell_type": "markdown",
   "metadata": {},
   "source": [
    "## Step 11: Solve the model"
   ]
  },
  {
   "cell_type": "markdown",
   "metadata": {},
   "source": [
    "The search for an optimal solution in this problem can potentiality take a long time. A fail limit can be placed on the solve process to limit the search process. \n",
    "The search stops when the fail limit is reached, even if optimality of the current best solution is not guaranteed. \n",
    "The code for limiting the solve process is provided below:"
   ]
  },
  {
   "cell_type": "code",
   "execution_count": 29,
   "metadata": {
    "scrolled": true
   },
   "outputs": [
    {
     "name": "stdout",
     "output_type": "stream",
     "text": [
      "\n",
      "Solving model....\n",
      "done\n"
     ]
    }
   ],
   "source": [
    "# Solve the model\n",
    "print(\"\\nSolving model....\")\n",
    "msol2 = mdl2.solve(url=url, key=key, FailLimit=30000)\n",
    "print(\"done\")"
   ]
  },
  {
   "cell_type": "code",
   "execution_count": 30,
   "metadata": {
    "scrolled": false
   },
   "outputs": [
    {
     "name": "stdout",
     "output_type": "stream",
     "text": [
      "Cost will be 18741\n"
     ]
    }
   ],
   "source": [
    "print(\"Cost will be \" + str(msol2.get_objective_values()[0]))"
   ]
  },
  {
   "cell_type": "code",
   "execution_count": 31,
   "metadata": {},
   "outputs": [
    {
     "data": {
      "image/png": "[encoded data removed]",
      "text/plain": [
       "<Figure size 1080x216 with 1 Axes>"
      ]
     },
     "metadata": {
      "needs_background": "light"
     },
     "output_type": "display_data"
    }
   ],
   "source": [
    "# Viewing the results of sequencing problems in a Gantt chart\n",
    "# (double click on the gantt to see details)\n",
    "import docplex.cp.utils_visu as visu\n",
    "import matplotlib.pyplot as plt\n",
    "%matplotlib inline\n",
    "#Change the plot size\n",
    "from pylab import rcParams\n",
    "rcParams['figure.figsize'] = 15, 3\n",
    "\n",
    "def showsequence(msol, s, setup, tp):\n",
    "    seq = msol.get_var_solution(s)\n",
    "    visu.sequence(name=s.get_name())\n",
    "    vs = seq.get_value()\n",
    "    for v in vs:\n",
    "        nm = v.get_name()\n",
    "        visu.interval(v, tp[TaskNames_ids[nm]], nm)\n",
    "    for i in range(len(vs) - 1):\n",
    "        end = vs[i].get_end()\n",
    "        tp1 = tp[TaskNames_ids[vs[i].get_name()]]\n",
    "        tp2 = tp[TaskNames_ids[vs[i + 1].get_name()]]\n",
    "        visu.transition(end, end + setup.get_value(tp1, tp2))\n",
    "\n",
    "visu.timeline(\"Solution for SchedSetup\")\n",
    "for w in WorkerNames:\n",
    "    types=[h for h in Houses for t in TaskNames if Worker[t]==w]\n",
    "    showsequence(msol2, workers[w], transitionTimes, types)\n",
    "visu.show()"
   ]
  },
  {
   "cell_type": "markdown",
   "metadata": {
    "collapsed": true
   },
   "source": [
    "# Chapter 4. Adding calendars to the house building problem\n",
    "\n",
    "This chapter introduces calendars into the house building problem, a problem of scheduling the tasks involved in building multiple houses in such a manner that minimizes the overall completion date of the houses.\n",
    "\n",
    "There are two workers, each of whom must perform a given subset of the necessary tasks. \n",
    "Each worker has a calendar detailing on which days he does not work, such as weekends and holidays. \n",
    "On a worker’s day off, he does no work on his tasks, and his tasks may not be scheduled to start or end on these days. \n",
    "Tasks that are in process by the worker are suspended during his days off.\n",
    "\n",
    "Following concepts are demonstrated:\n",
    "* use of the *step functions*,\n",
    "* use an alternative version of the constraint *no_overlap*,\n",
    "* use *intensity* expression,\n",
    "* use the constraints *forbid_start* and *forbid_end*,\n",
    "* use the *length* and *size* of an interval variable."
   ]
  },
  {
   "cell_type": "markdown",
   "metadata": {},
   "source": [
    "## Problem to be solved\n",
    "\n",
    "The problem consists of assigning start dates to a set of tasks in such a way that the schedule satisfies temporal constraints and minimizes a criterion. \n",
    "The criterion for this problem is to minimize the overall completion date.\n",
    "For each task type in the house building project, the following table shows the size of the task in days along with the tasks that must be finished before the task can start. \n",
    "In addition, each type of task can be performed by a given one of the two workers, Jim and Joe. \n",
    "A worker can only work on one task at a time. \n",
    "Once started, Problem to be solveda task may be suspended during a worker’s days off, but may not be interrupted by another task."
   ]
  },
  {
   "cell_type": "markdown",
   "metadata": {},
   "source": [
    "House construction tasks are detailed in the folowing table:\n",
    "\n",
    "| Task      | Duration | Worker | Preceding tasks                   |\n",
    "|-----------|----------|--------|-----------------------------------|\n",
    "| masonry   | 35       |  Joe   |                                   |\n",
    "| carpentry | 15       |  Joe   | masonry                           |\n",
    "| plumbing  | 40       |  Jim   | masonry                           |\n",
    "| ceiling   | 15       |  Jim   | masonry                           |\n",
    "| roofing   |  5       |  Joe   | carpentry                         |\n",
    "| painting  | 10       |  Jim   | ceiling                           |\n",
    "| windows   |  5       |  Jim   | roofing                           |\n",
    "| facade    | 10       |  Joe   | roofing, plumbing                 |\n",
    "| garden    |  5       |  Joe   | roofing, plumbing                 |\n",
    "| moving    |  5       |  Jim   | windows, facade, garden, painting |"
   ]
  },
  {
   "cell_type": "markdown",
   "metadata": {},
   "source": [
    "Solving the problem consists of determining starting dates for the tasks such that\n",
    "the overall completion date is minimized."
   ]
  },
  {
   "cell_type": "markdown",
   "metadata": {},
   "source": [
    "## Step 1: Describe the problem\n",
    "\n",
    "The first step in modeling the problem is to write a natural language description of the problem, identifying the decision variables and the constraints on these variables.\n",
    "\n",
    "* What is the known information in this problem ?\n",
    "\n",
    "   There are five houses to be built by two workers. For each house, there are ten house building tasks, each with a given size. For each task, there is a list of tasks that must be completed before the task can start. Each task must be performed by a given worker, and each worker has a calendar listing his days off.\n",
    "\n",
    "\n",
    "* What are the decision variables or unknowns in this problem ?\n",
    "\n",
    "   The unknowns are the start and end times of tasks which also determine the overall completion time. The actual length of a task depends on its position in time and on the calendar of the associated worker.\n",
    "   \n",
    "   \n",
    "* What are the constraints on these variables ?\n",
    "\n",
    "   There are constraints that specify that a particular task may not begin until one or more given tasks have been completed. In addition, there are constraints that specify that a worker can be assigned to only one task at a time. A task cannot start or end during the associated worker’s days off.\n",
    "\n",
    "\n",
    "* What is the objective ?\n",
    "\n",
    "   The objective is to minimize the overall completion date."
   ]
  },
  {
   "cell_type": "markdown",
   "metadata": {},
   "source": [
    "## Step 2: Prepare data\n",
    "A scheduling model starts with the declaration of the engine as follows:"
   ]
  },
  {
   "cell_type": "code",
   "execution_count": 32,
   "metadata": {},
   "outputs": [],
   "source": [
    "import sys\n",
    "from docplex.cp.model import *\n",
    "\n",
    "mdl3 = CpoModel()\n",
    "\n",
    "NbHouses = 5;\n",
    "\n",
    "WorkerNames = [\"Joe\", \"Jim\" ]\n",
    "\n",
    "TaskNames = [\"masonry\",\"carpentry\",\"plumbing\",\"ceiling\",\"roofing\",\"painting\",\"windows\",\"facade\",\"garden\",\"moving\"]\n",
    "\n",
    "Duration =  [35,15,40,15,5,10,5,10,5,5]\n",
    "\n",
    "Worker = {\"masonry\":\"Joe\",\"carpentry\":\"Joe\",\"plumbing\":\"Jim\",\"ceiling\":\"Jim\",\n",
    "          \"roofing\":\"Joe\",\"painting\":\"Jim\",\"windows\":\"Jim\",\"facade\":\"Joe\",\n",
    "          \"garden\":\"Joe\",\"moving\":\"Jim\"}\n",
    "\n",
    "\n",
    "Precedences = { (\"masonry\",\"carpentry\"),(\"masonry\",\"plumbing\"),\n",
    "               (\"masonry\",\"ceiling\"),(\"carpentry\",\"roofing\"),\n",
    "               (\"ceiling\",\"painting\"),(\"roofing\",\"windows\"),\n",
    "               (\"roofing\",\"facade\"),(\"plumbing\",\"facade\"),\n",
    "               (\"roofing\",\"garden\"),(\"plumbing\",\"garden\"),\n",
    "               (\"windows\",\"moving\"),(\"facade\",\"moving\"),  \n",
    "               (\"garden\",\"moving\"),(\"painting\",\"moving\") }"
   ]
  },
  {
   "cell_type": "markdown",
   "metadata": {},
   "source": [
    "## Step 3: Add the intensity step functions"
   ]
  },
  {
   "cell_type": "markdown",
   "metadata": {},
   "source": [
    "To model the availability of a worker with respect to his days off, a step function is created to represents his intensity over time. \n",
    "This function has a range of [0..100], where the value 0 represents that the worker is not available and the value 100 represents that the worker is available with regard to his calendar.\n",
    "\n",
    "Step functions are created by the method *step_function()*.\n",
    "Each interval [x1, x2) on which the function has the same value is called a step. \n",
    "When two consecutive steps of the function have the same value, these steps are merged so that the function is always represented with the minimal number of steps.\n",
    "\n",
    "For each worker, a sorted tupleset is created. At each point in time where the worker’s availability changes, a tuple is created. \n",
    "The tuple has two elements; the first element is an integer value that represents the worker’s availability (0 for on a break, 100 for fully available to work, 50 for a half-day), and the other element represents the date at which the availability changes to this value. \n",
    "This tupleset, sorted by date, is then used to create a step function to represent the worker’s intensity over time. \n",
    "The value of the function after the final step is set to 100."
   ]
  },
  {
   "cell_type": "code",
   "execution_count": 33,
   "metadata": {},
   "outputs": [],
   "source": [
    "Breaks ={\n",
    "  \"Joe\" : [\n",
    "     (5,14),(19,21),(26,28),(33,35),(40,42),(47,49),(54,56),(61,63),\n",
    "     (68,70),(75,77),(82,84),(89,91),(96,98),(103,105),(110,112),(117,119),\n",
    "     (124,133),(138,140),(145,147),(152,154),(159,161),(166,168),(173,175),\n",
    "     (180,182),(187,189),(194,196),(201,203),(208,210),(215,238),(243,245),(250,252),\n",
    "     (257,259),(264,266),(271,273),(278,280),(285,287),(292,294),(299,301),\n",
    "     (306,308),(313,315),(320,322),(327,329),(334,336),(341,343),(348,350),\n",
    "     (355,357),(362,364),(369,378),(383,385),(390,392),(397,399),(404,406),(411,413),\n",
    "     (418,420),(425,427),(432,434),(439,441),(446,448),(453,455),(460,462),(467,469),\n",
    "     (474,476),(481,483),(488,490),(495,504),(509,511),(516,518),(523,525),(530,532),\n",
    "     (537,539),(544,546),(551,553),(558,560),(565,567),(572,574),(579,602),(607,609),\n",
    "     (614,616),(621,623),(628,630),(635,637),(642,644),(649,651),(656,658),(663,665),\n",
    "     (670,672),(677,679),(684,686),(691,693),(698,700),(705,707),(712,714),\n",
    "     (719,721),(726,728)\n",
    "  ],\n",
    "  \"Jim\" : [\n",
    "     (5,7),(12,14),(19,21),(26,42),(47,49),(54,56),(61,63),(68,70),(75,77),\n",
    "     (82,84),(89,91),(96,98),(103,105),(110,112),(117,119),(124,126),(131,133),\n",
    "     (138,140),(145,147),(152,154),(159,161),(166,168),(173,175),(180,182),(187,189),\n",
    "     (194,196),(201,225),(229,231),(236,238),(243,245),(250,252),(257,259),\n",
    "     (264,266),(271,273),(278,280),(285,287),(292,294),(299,301),(306,315),\n",
    "     (320,322),(327,329),(334,336),(341,343),(348,350),(355,357),(362,364),(369,371),\n",
    "     (376,378),(383,385),(390,392),(397,413),(418,420),(425,427),(432,434),(439,441),\n",
    "     (446,448),(453,455),(460,462),(467,469),(474,476),(481,483),(488,490),(495,497),\n",
    "     (502,504),(509,511),(516,518),(523,525),(530,532),(537,539),(544,546),\n",
    "     (551,553),(558,560),(565,581),(586,588),(593,595),(600,602),(607,609),\n",
    "     (614,616),(621,623),(628,630),(635,637),(642,644),(649,651),(656,658),\n",
    "     (663,665),(670,672),(677,679),(684,686),(691,693),(698,700),(705,707),\n",
    "     (712,714),(719,721),(726,728)]\n",
    "  }"
   ]
  },
  {
   "cell_type": "code",
   "execution_count": 34,
   "metadata": {},
   "outputs": [],
   "source": [
    "from collections import namedtuple\n",
    "Break = namedtuple('Break', ['start', 'end'])"
   ]
  },
  {
   "cell_type": "code",
   "execution_count": 35,
   "metadata": {},
   "outputs": [],
   "source": [
    "Calendar = {}\n",
    "mymax = max(max(v for k,v in Breaks[w]) for w in WorkerNames)\n",
    "for w in WorkerNames:\n",
    "    step = CpoStepFunction()\n",
    "    step.set_value(0, mymax, 100)\n",
    "    for b in Breaks[w]:\n",
    "        t = Break(*b)\n",
    "        step.set_value(t.start, t.end, 0)\n",
    "    Calendar[w] = step"
   ]
  },
  {
   "cell_type": "markdown",
   "metadata": {},
   "source": [
    "This intensity function is used in creating the task variables for the workers. \n",
    "The intensity step function of the appropriate worker is passed to the creation of each interval variable. \n",
    "The size of the interval variable is the time spent at the house to process the task, not including the worker’s day off. \n",
    "The length is the difference between the start and the end of the interval."
   ]
  },
  {
   "cell_type": "markdown",
   "metadata": {},
   "source": [
    "## Step 4: Create the interval variables"
   ]
  },
  {
   "cell_type": "code",
   "execution_count": 36,
   "metadata": {},
   "outputs": [],
   "source": [
    "#TaskNames_ids = {}\n",
    "itvs = {}\n",
    "for h in Houses:\n",
    "    for i,t in enumerate(TaskNames):\n",
    "        _name = str(h) + \"_\" + str(t)\n",
    "        itvs[(h,t)] = mdl3.interval_var(size=Duration[i], intensity=Calendar[Worker[t]], name=_name)"
   ]
  },
  {
   "cell_type": "markdown",
   "metadata": {},
   "source": [
    "The tasks of the house building project have precedence constraints that are added to the model."
   ]
  },
  {
   "cell_type": "markdown",
   "metadata": {},
   "source": [
    "## Step 5: Add the precedence constraints"
   ]
  },
  {
   "cell_type": "code",
   "execution_count": 37,
   "metadata": {},
   "outputs": [],
   "source": [
    "for h in Houses:\n",
    "    for p in Precedences:\n",
    "        mdl3.add( mdl3.end_before_start(itvs[h,p[0]], itvs[h,p[1]]) )"
   ]
  },
  {
   "cell_type": "markdown",
   "metadata": {},
   "source": [
    "## Step 6: Add the no overlap constraints"
   ]
  },
  {
   "cell_type": "markdown",
   "metadata": {},
   "source": [
    "To add the constraints that a worker can perform only one task at a time, the interval variables associated with that worker are constrained to not overlap in the solution. \n",
    "To do this, the specialized constraint *no_overlap()* is used, but with a slightly different form than was used in the section Chapter 3, “Adding workers and transition times to the house building problem,”.\n",
    "\n",
    "This form is a shortcut that avoids the need to explicitly define the interval sequence variable when no additional constraints are required on the sequence variable. A single *no_overlap()* constraint is added on the array of interval variables for each worker."
   ]
  },
  {
   "cell_type": "code",
   "execution_count": 38,
   "metadata": {},
   "outputs": [],
   "source": [
    "for w in WorkerNames:\n",
    "    mdl3.add( mdl3.no_overlap( [itvs[h,t] for h in Houses for t in TaskNames if Worker[t]==w]  ) )"
   ]
  },
  {
   "cell_type": "markdown",
   "metadata": {},
   "source": [
    "## Step 7: Create the forbidden start and end constraints"
   ]
  },
  {
   "cell_type": "markdown",
   "metadata": {},
   "source": [
    "When an intensity function is set on an interval variable, the tasks which overlap weekends and/or holidays will be automatically prolonged. \n",
    "A task could still be scheduled to start or end in a weekend, but, in this problem, a worker’s tasks cannot start or end during the worker’s days off. \n",
    "*CP Optimizer* provides the constraints *forbid_start* and *forbid_end* to model these types of constraints.\n",
    "\n",
    "With the constraint *forbid_start*, a constraint is created to specifies that an interval variable must not be scheduled to start at certain times.\n",
    "The constraint takes as parameters an interval variable and a step function. \n",
    "If the interval variable is present in the solution, then it is constrained to not start at a time when the value of the step function is zero.\n",
    "\n",
    "*CP Optimizer* also provides *forbid_end* and *forbid_extent*, which respectively constrain an interval variable to not end and not overlap where the associated step function is valued zero.\n",
    "The first argument of the constraint *forbid_start* is the interval variable on which the constraint is placed.\n",
    "The second argument is the step function that defines a set of forbidden values for the start of the interval variable: the interval variable cannot start at a point where the step function is 0."
   ]
  },
  {
   "cell_type": "code",
   "execution_count": 39,
   "metadata": {},
   "outputs": [],
   "source": [
    "for h in Houses:\n",
    "    for t in TaskNames:\n",
    "        mdl3.add(mdl3.forbid_start(itvs[h,t], Calendar[Worker[t]]))\n",
    "        mdl3.add(mdl3.forbid_end (itvs[h,t], Calendar[Worker[t]]))"
   ]
  },
  {
   "cell_type": "markdown",
   "metadata": {
    "collapsed": true
   },
   "source": [
    "## Step 8: Create the objective"
   ]
  },
  {
   "cell_type": "markdown",
   "metadata": {},
   "source": [
    "The objective of this problem is to minimize the overall completion date (the completion date of the house that is completed last). \n",
    "The maximum completion date among the individual house projects is determined using the expression *end_of()* on the last task in building each house (here, it is the moving task) and minimize the maximum of these expressions."
   ]
  },
  {
   "cell_type": "code",
   "execution_count": 40,
   "metadata": {},
   "outputs": [],
   "source": [
    "mdl3.add( mdl3.minimize(mdl3.max(mdl3.end_of(itvs[h,\"moving\"]) for h in Houses)))"
   ]
  },
  {
   "cell_type": "markdown",
   "metadata": {},
   "source": [
    "## Step 9: Solve the model"
   ]
  },
  {
   "cell_type": "markdown",
   "metadata": {},
   "source": [
    "The search for an optimal solution in this problem could potentiality take a long time, so a fail limit has been placed on the solve process. \n",
    "The search will stop when the fail limit is reached, even if optimality of the current best solution is not guaranteed. \n",
    "The code for limiting the solve process is provided below:"
   ]
  },
  {
   "cell_type": "code",
   "execution_count": 41,
   "metadata": {},
   "outputs": [
    {
     "name": "stdout",
     "output_type": "stream",
     "text": [
      "\n",
      "Solving model....\n",
      "done\n"
     ]
    }
   ],
   "source": [
    "# Solve the model\n",
    "print(\"\\nSolving model....\")\n",
    "msol3 = mdl3.solve(url=url, key=key, FailLimit=30000)\n",
    "print(\"done\")"
   ]
  },
  {
   "cell_type": "code",
   "execution_count": 42,
   "metadata": {},
   "outputs": [
    {
     "name": "stdout",
     "output_type": "stream",
     "text": [
      "Cost will be 638\n"
     ]
    }
   ],
   "source": [
    "print(\"Cost will be \"+str( msol3.get_objective_values()[0] ))"
   ]
  },
  {
   "cell_type": "code",
   "execution_count": 43,
   "metadata": {},
   "outputs": [],
   "source": [
    "# Allocate tasks to workers\n",
    "tasks = {w : [] for w in WorkerNames}\n",
    "for k,v in Worker.items():\n",
    "    tasks[v].append(k)\n",
    "\n",
    "types = {t : i for i,t in enumerate(TaskNames)}"
   ]
  },
  {
   "cell_type": "markdown",
   "metadata": {},
   "source": [
    "Graphical output of the solution is given by:"
   ]
  },
  {
   "cell_type": "code",
   "execution_count": 44,
   "metadata": {},
   "outputs": [],
   "source": [
    "import docplex.cp.utils_visu as visu\n",
    "import matplotlib.pyplot as plt\n",
    "%matplotlib inline\n",
    "#Change the plot size\n",
    "from pylab import rcParams\n",
    "rcParams['figure.figsize'] = 15, 3"
   ]
  },
  {
   "cell_type": "code",
   "execution_count": 45,
   "metadata": {},
   "outputs": [
    {
     "data": {
      "image/png": "[encoded data removed]",
      "text/plain": [
       "<Figure size 1080x216 with 2 Axes>"
      ]
     },
     "metadata": {
      "needs_background": "light"
     },
     "output_type": "display_data"
    }
   ],
   "source": [
    "visu.timeline('Solution SchedCalendar')\n",
    "for w in WorkerNames:\n",
    "    visu.panel()\n",
    "    visu.pause(Calendar[w])\n",
    "    visu.sequence(name=w,\n",
    "                  intervals=[(msol3.get_var_solution(itvs[h,t]), types[t], t) for t in tasks[w] for h in Houses])\n",
    "visu.show()"
   ]
  },
  {
   "cell_type": "markdown",
   "metadata": {},
   "source": [
    "# Chapter 5. Using cumulative functions in the house building problem\n",
    "\n",
    "Some tasks must necessarily take place before other tasks, and each task has a predefined duration. \n",
    "Moreover, there are three workers, and each task requires any one of the three workers. \n",
    "A worker can be assigned to at most one task at a time. \n",
    "In addition, there is a cash budget with a starting balance. \n",
    "Each task consumes a certain amount of the budget at the start of the task, and the cash balance is increased every 60 days. \n",
    "\n",
    "This chapter introduces:\n",
    "* use the modeling function *cumul_function*,\n",
    "* use the functions *pulse*, *step*, *step_at_start* and *step_at_end*.\n",
    "\n"
   ]
  },
  {
   "cell_type": "markdown",
   "metadata": {},
   "source": [
    "## Problem to be solved\n",
    "\n",
    "The problem consists of assigning start dates to a set of tasks in such a way that the schedule satisfies temporal constraints and minimizes a criterion. The criterion\n",
    "for this problem is to minimize the overall completion date. Each task requires 200 dollars per day of the task, payable at the start of the task. Every 60 days, starting\n",
    "at day 0, the amount of 30,000 dollars is added to the cash balance.\n",
    "\n",
    "For each task type in the house building project, the following table shows the duration of the task in days along with the tasks that must be finished before the task can start. Each task requires any one of the three workers. A worker can only work on one task at a time; each task, once started, may not be interrupted."
   ]
  },
  {
   "cell_type": "markdown",
   "metadata": {},
   "source": [
    "House construction tasks:\n",
    "\n",
    "| Task      | Duration | Preceding tasks      |\n",
    "|-----------|----------|----------------------|\n",
    "| masonry   | 35       |                      | \n",
    "| carpentry | 15       |  masonry             | \n",
    "| plumbing  | 40       |  masonry             | \n",
    "| ceiling   | 15       |  masonry             | \n",
    "| roofingv  |  5       |  carpentry           | \n",
    "| painting  | 10       |  ceiling             | \n",
    "| windows   |  5       |  roofing             | \n",
    "| facade    | 10       |  roofing, plumbing   | \n",
    "| garden    |  5       | roofing, plumbing    | \n",
    "| moving    |  5       |  windows, facade, garden,painting | "
   ]
  },
  {
   "cell_type": "markdown",
   "metadata": {
    "collapsed": true
   },
   "source": [
    "There is an earliest starting date for each of the five houses that must be built.\n",
    "\n",
    "| House | Earliest starting date |\n",
    "|---|----|\n",
    "| 0 | 31 |\n",
    "| 1 | 0  |\n",
    "| 2 | 90 |\n",
    "| 3 | 120|\n",
    "| 4 | 90 |\n",
    "Solving the problem consists of determining starting dates for the tasks such that\n",
    "the overall completion date is minimized."
   ]
  },
  {
   "cell_type": "markdown",
   "metadata": {
    "collapsed": true
   },
   "source": [
    "## Step 1: Describe the problem\n",
    "\n",
    "The first step in modeling and solving the problem is to write a natural language description of the problem, identifying the decision variables and the constraints on these variables.\n",
    "\n",
    "* What is the known information in this problem ?\n",
    "\n",
    "   There are five houses to be built by three workers. For each house, there are ten house building tasks, each with a given size and cost. For each task, there is a list of tasks that must be completed before the task can start. There is a starting cash balance of a given amount, and, each sixty days, the cash balance is increased by a given amount.\n",
    "\n",
    "\n",
    "* What are the decision variables or unknowns in this problem ?\n",
    "\n",
    "   The unknown is the point in time that each task will start. Once starting dates have been fixed, the overall completion date will also be fixed.\n",
    "\n",
    "\n",
    "* What are the constraints on these variables ?\n",
    "\n",
    "   There are constraints that specify that a particular task may not begin until one or more given tasks have been completed. Each task requires any one of the three workers. In addition, there are constraints that specify that a worker can be assigned to only one task at a time. Before a task can start, the cash balance must be large enough to pay the cost of the task.\n",
    "\n",
    "\n",
    "* What is the objective ?\n",
    "\n",
    "   The objective is to minimize the overall completion date."
   ]
  },
  {
   "cell_type": "markdown",
   "metadata": {
    "collapsed": true
   },
   "source": [
    "## Step 2: Prepare data\n",
    "In the related data file, the data provided includes the number of houses (NbHouses), the number of workers (NbWorkers), the names of the tasks (TaskNames), the sizes of the tasks (Duration), the precedence relations (Precedences), and the earliest start dates of the houses (ReleaseDate).\n",
    "\n",
    "As each house has an earliest starting date, the task interval variables are declared to have a start date no earlier than that release date of the associated house. The ending dates of the tasks are not constrained, so the upper value of the range for the variables is maxint."
   ]
  },
  {
   "cell_type": "code",
   "execution_count": 46,
   "metadata": {},
   "outputs": [],
   "source": [
    "NbWorkers = 3\n",
    "NbHouses  = 5\n",
    "\n",
    "TaskNames = {\"masonry\",\"carpentry\",\"plumbing\",\n",
    "             \"ceiling\",\"roofing\",\"painting\",\n",
    "             \"windows\",\"facade\",\"garden\",\"moving\"}\n",
    "\n",
    "Duration =  [35, 15, 40, 15, 5, 10, 5, 10, 5, 5]\n",
    "\n",
    "ReleaseDate = [31, 0, 90, 120, 90]"
   ]
  },
  {
   "cell_type": "code",
   "execution_count": 47,
   "metadata": {},
   "outputs": [],
   "source": [
    "Precedences = [(\"masonry\", \"carpentry\"), (\"masonry\", \"plumbing\"), (\"masonry\", \"ceiling\"),\n",
    "               (\"carpentry\", \"roofing\"), (\"ceiling\", \"painting\"), (\"roofing\", \"windows\"),\n",
    "               (\"roofing\", \"facade\"), (\"plumbing\", \"facade\"), (\"roofing\", \"garden\"),\n",
    "               (\"plumbing\", \"garden\"), (\"windows\", \"moving\"), (\"facade\", \"moving\"),\n",
    "               (\"garden\", \"moving\"), (\"painting\", \"moving\")]"
   ]
  },
  {
   "cell_type": "markdown",
   "metadata": {
    "collapsed": true
   },
   "source": [
    "## Step 3: Create the interval variables"
   ]
  },
  {
   "cell_type": "code",
   "execution_count": 48,
   "metadata": {},
   "outputs": [],
   "source": [
    "import sys\n",
    "from docplex.cp.model import *"
   ]
  },
  {
   "cell_type": "code",
   "execution_count": 49,
   "metadata": {},
   "outputs": [],
   "source": [
    "mdl4 = CpoModel()"
   ]
  },
  {
   "cell_type": "code",
   "execution_count": 50,
   "metadata": {},
   "outputs": [],
   "source": [
    "itvs = {}\n",
    "for h in Houses:\n",
    "    for i,t in enumerate(TaskNames):\n",
    "        itvs[h,t] = mdl4.interval_var(start = [ReleaseDate[h], INTERVAL_MAX], size=Duration[i])"
   ]
  },
  {
   "cell_type": "markdown",
   "metadata": {},
   "source": [
    "As the workers are equivalent in this problem, it is better to represent them as one pool of workers instead of as individual workers with no overlap constraints as was done in the earlier examples. \n",
    "The expression representing usage of this pool of workers can be modified by the interval variables that require a worker.\n",
    "\n",
    "To model both the limited number of workers and the limited budget, we need to represent the sum of the individual contributions associated with the interval variables. \n",
    "In the case of the cash budget, some tasks consume some of the budget at the start. \n",
    "In the case of the workers, a task requires the worker only for the duration of the task.\n"
   ]
  },
  {
   "cell_type": "markdown",
   "metadata": {
    "collapsed": true
   },
   "source": [
    "## Step 4: Declare the worker usage function"
   ]
  },
  {
   "cell_type": "markdown",
   "metadata": {},
   "source": [
    "A **cumulative function** expression, can be used to model a resource usage function over time. \n",
    "This function can be computed as a sum of interval variable demands on a resource over time.\n",
    "An interval usually increases the cumulated resource usage function at its start time and decreases it when it releases the resource at its end time (pulse function).\n",
    "For resources that can be produced and consumed by activities (for instance the contents of an inventory or a tank), the resource level can also be described as a function of time. \n",
    "A production activity will increase the resource level at the start or end time of the activity whereas a consuming activity will decrease it. \n",
    "The cumulated contribution of activities on the resource can be represented by a function of time, and constraints can be modeled on this function (for instance, a maximal or a safety level)."
   ]
  },
  {
   "cell_type": "markdown",
   "metadata": {},
   "source": [
    "The value of the expression at any given moment in time is constrained to be non-negative. A cumulative function expression can be modified with the atomic demand functions:\n",
    "* *step()*, which increases or decreases the level of the function by a given amount at a given time,\n",
    "* *pulse()*, which increases or decreases the level of the function by a given amount for the length of a given interval variable or fixed interval,\n",
    "* *step_at_start()*, which increases or decreases the level of the function by a given amount at the start of a given interval variable,\n",
    "* *step_at_end()*, which increases or decreases the level of the function by a given amount at the end of a given interval variable.\n",
    "\n",
    "A cumulative function expression can be constrained to model limited resource capacity by constraining that the function be ≤ the capacity.\n",
    "\n",
    "Two cumulative functions are required, one to represent the usage of the workers and the other to represent the cash balance.\n",
    "Each task requires one worker from the start to the end of the task interval. \n",
    "\n",
    "A cumulative function expression, *workerUsage* is used to represent the fact that a worker is required for the task.\n",
    "This function is constrained to not exceed the number of workers at any point in time. \n",
    "The function *pulse()* adjusts the expression by a given amount on the interval. \n",
    "Summing these pulse atoms over all the interval variables results in an expression that represents worker usage over the entire time frame for building the houses."
   ]
  },
  {
   "cell_type": "code",
   "execution_count": 51,
   "metadata": {},
   "outputs": [],
   "source": [
    "workers_usage = step_at(0, 0)\n",
    "for h in Houses:\n",
    "    for t in TaskNames:\n",
    "        workers_usage += mdl4.pulse(itvs[h,t],1)"
   ]
  },
  {
   "cell_type": "markdown",
   "metadata": {
    "collapsed": true
   },
   "source": [
    "## Step 5: Declare the cash budget function"
   ]
  },
  {
   "cell_type": "markdown",
   "metadata": {},
   "source": [
    "A cumulative function *cach* is also used to model the cash budget. \n",
    "To set the initial cash balance of 30,000 dollars and increase the balance by 30,000 every sixty days, the function *step_at()* is used to increment or decrement the cumulative function expression by a fixed amount on a given date.\n",
    "\n",
    "Each task requires a cash payment equal to 200 dollars a day for the length of the task, payable at the start of the task. \n",
    "The function *step_at_start()* is used to adjust the cash balance cumulative function expression the appropriate amount for every task."
   ]
  },
  {
   "cell_type": "code",
   "execution_count": 52,
   "metadata": {},
   "outputs": [],
   "source": [
    "cash = step_at(0, 0)\n",
    "for p in Houses:\n",
    "    cash += mdl4.step_at(60*p, 30000)\n",
    "\n",
    "for h in Houses:\n",
    "    for i,t in enumerate(TaskNames):\n",
    "        cash -= mdl4.step_at_start(itvs[h,t], 200*Duration[i])"
   ]
  },
  {
   "cell_type": "markdown",
   "metadata": {
    "collapsed": true
   },
   "source": [
    "## Step 6: Add the temporal constraints"
   ]
  },
  {
   "cell_type": "markdown",
   "metadata": {},
   "source": [
    "The tasks have precedence constraints that are added to the model."
   ]
  },
  {
   "cell_type": "code",
   "execution_count": 53,
   "metadata": {},
   "outputs": [],
   "source": [
    "for h in Houses:\n",
    "    for p in Precedences:\n",
    "        mdl4.add( mdl4.end_before_start(itvs[h,p[0]], itvs[h,p[1]]) )"
   ]
  },
  {
   "cell_type": "markdown",
   "metadata": {
    "collapsed": true
   },
   "source": [
    "## Step 7: Add the worker usage constraint"
   ]
  },
  {
   "cell_type": "markdown",
   "metadata": {},
   "source": [
    "There is a limited number of workers, and the cumulative function expression representing worker usage must be constrained to not be greater than the number of workers.."
   ]
  },
  {
   "cell_type": "code",
   "execution_count": 54,
   "metadata": {},
   "outputs": [],
   "source": [
    "mdl4.add( workers_usage <= NbWorkers )"
   ]
  },
  {
   "cell_type": "markdown",
   "metadata": {
    "collapsed": true
   },
   "source": [
    "## Step 8: Add the cash budget constraint"
   ]
  },
  {
   "cell_type": "markdown",
   "metadata": {},
   "source": [
    "The budget must always be nonnegative, and the cumulative function expression representing the cash budget must be greater than 0."
   ]
  },
  {
   "cell_type": "code",
   "execution_count": 55,
   "metadata": {},
   "outputs": [],
   "source": [
    "mdl4.add( cash >= 0 )"
   ]
  },
  {
   "cell_type": "markdown",
   "metadata": {
    "collapsed": true
   },
   "source": [
    "## Step 9: Add the objective"
   ]
  },
  {
   "cell_type": "markdown",
   "metadata": {},
   "source": [
    "The objective of this problem is to minimize the overall completion date (the completion date of the house that is completed last). \n",
    "The maximum completion date among the individual house projects is determined using the expression *end_of()* on the last task in building each house (here, it is the moving task) and minimize the maximum of these expressions."
   ]
  },
  {
   "cell_type": "code",
   "execution_count": 56,
   "metadata": {},
   "outputs": [],
   "source": [
    "mdl4.add(\n",
    "    mdl4.minimize( \n",
    "        mdl4.max( mdl4.end_of(itvs[h,\"moving\"]) for h in Houses)\n",
    "    )\n",
    ")"
   ]
  },
  {
   "cell_type": "markdown",
   "metadata": {},
   "source": [
    "## Step 10: Solve the model"
   ]
  },
  {
   "cell_type": "markdown",
   "metadata": {},
   "source": [
    "The search for an optimal solution in this problem could potentiality take a long time, so a fail limit has been placed on the solve process. \n",
    "The search will stop when the fail limit is reached, even if optimality of the current best solution is not guaranteed. \n",
    "The code for limiting the solve process is:"
   ]
  },
  {
   "cell_type": "code",
   "execution_count": 57,
   "metadata": {},
   "outputs": [
    {
     "name": "stdout",
     "output_type": "stream",
     "text": [
      "\n",
      "Solving model....\n",
      "done\n"
     ]
    }
   ],
   "source": [
    "# Solve the model\n",
    "print(\"\\nSolving model....\")\n",
    "msol4 = mdl4.solve(url=url, key=key, FailLimit=30000)\n",
    "print(\"done\")"
   ]
  },
  {
   "cell_type": "code",
   "execution_count": 58,
   "metadata": {},
   "outputs": [
    {
     "name": "stdout",
     "output_type": "stream",
     "text": [
      "Cost will be 285\n"
     ]
    }
   ],
   "source": [
    "print(\"Cost will be \" + str( msol4.get_objective_values()[0] ))"
   ]
  },
  {
   "cell_type": "code",
   "execution_count": 59,
   "metadata": {},
   "outputs": [],
   "source": [
    "import docplex.cp.utils_visu as visu\n",
    "import matplotlib.pyplot as plt\n",
    "%matplotlib inline\n",
    "#Change the plot size\n",
    "from pylab import rcParams\n",
    "rcParams['figure.figsize'] = 15, 3"
   ]
  },
  {
   "cell_type": "code",
   "execution_count": 60,
   "metadata": {},
   "outputs": [
    {
     "name": "stderr",
     "output_type": "stream",
     "text": [
      "c:\\local\\python361\\lib\\site-packages\\matplotlib\\axes\\_base.py:3215: MatplotlibDeprecationWarning: \n",
      "The `xmin` argument was deprecated in Matplotlib 3.0 and will be removed in 3.2. Use `left` instead.\n",
      "  alternative='`left`', obj_type='argument')\n",
      "c:\\local\\python361\\lib\\site-packages\\matplotlib\\axes\\_base.py:3221: MatplotlibDeprecationWarning: \n",
      "The `xmax` argument was deprecated in Matplotlib 3.0 and will be removed in 3.2. Use `right` instead.\n",
      "  alternative='`right`', obj_type='argument')\n"
     ]
    },
    {
     "data": {
      "image/png": "[encoded data removed]",
      "text/plain": [
       "<Figure size 1080x216 with 3 Axes>"
      ]
     },
     "metadata": {
      "needs_background": "light"
     },
     "output_type": "display_data"
    }
   ],
   "source": [
    "workersF = CpoStepFunction()\n",
    "cashF = CpoStepFunction()\n",
    "for p in range(5):\n",
    "    cashF.add_value(60 * p, INT_MAX, 30000)\n",
    "for h in Houses:\n",
    "    for i,t in enumerate(TaskNames):\n",
    "        itv = msol4.get_var_solution(itvs[h,t])\n",
    "        workersF.add_value(itv.get_start(), itv.get_end(), 1)\n",
    "        cashF.add_value(itv.start, INT_MAX, -200 * Duration[i])\n",
    "\n",
    "visu.timeline('Solution SchedCumul')\n",
    "visu.panel(name=\"Schedule\")\n",
    "for h in Houses:\n",
    "    for i,t in enumerate(TaskNames):\n",
    "        visu.interval(msol4.get_var_solution(itvs[h,t]), h, t)\n",
    "visu.panel(name=\"Workers\")\n",
    "visu.function(segments=workersF, style='area')\n",
    "visu.panel(name=\"Cash\")\n",
    "visu.function(segments=cashF, style='area', color='gold')\n",
    "visu.show()"
   ]
  },
  {
   "cell_type": "markdown",
   "metadata": {
    "collapsed": true
   },
   "source": [
    "# Chapter 6. Using alternative resources in the house building problem\n",
    "\n",
    "This chapter presents how to use alternative resources in the house building problem. The following concepts are presented:\n",
    "* use the constraints *alternative* and *presence_of*,\n",
    "* use the function *optional*.\n",
    "\n",
    "Each house has a maximal completion date. \n",
    "Moreover, there are three workers, and one of the three is required for each task. \n",
    "The three workers have varying levels of skills with regard to the various tasks; if a worker has no skill for a particular task, he may not be assigned to the task. \n",
    "For some pairs of tasks, if a particular worker performs one of the pair on a house, then the same worker must be assigned to the other of the pair for that house. \n",
    "The objective is to find a solution that maximizes the task associated skill levels of the workers assigned to the tasks. "
   ]
  },
  {
   "cell_type": "markdown",
   "metadata": {
    "collapsed": true
   },
   "source": [
    "## Problem to be solved\n",
    "\n",
    "The problem consists of assigning start dates to a set of tasks in such a way that the schedule satisfies temporal constraints and maximizes a criterion. The criterion for this problem is to maximize the task associated skill levels of the workers assigned to the tasks.\n",
    "\n",
    "For each task type in the house building project, the following table shows the duration of the task in days along with the tasks that must be finished before the task can start. A worker can only work on one task at a time; each task, once started, may not be interrupted."
   ]
  },
  {
   "cell_type": "markdown",
   "metadata": {
    "collapsed": true
   },
   "source": [
    "House construction tasks:\n",
    "\n",
    "| Task      | Duration | Preceding tasks |\n",
    "|-----------|----------|-----------------|\n",
    "| masonry   | 35       |                 |\n",
    "| carpentry | 15       | masonry         |\n",
    "| plumbing  | 40       | masonry         |\n",
    "| ceiling   | 15       | masonry         |\n",
    "| roofing   |  5       | carpentry       |\n",
    "| painting  | 10       | ceiling         |\n",
    "| windows   |  5       | roofing         |\n",
    "| facade    | 10       | roofing, plumbing         |\n",
    "| garden    |  5       | roofing, plumbing         |\n",
    "| moving    |  5       | windows, facade, garden,painting         |"
   ]
  },
  {
   "cell_type": "markdown",
   "metadata": {
    "collapsed": true
   },
   "source": [
    "Every house must be completed within 300 days. There are three workers with varying skill levels in regard to the ten tasks. If a worker has a skill level of zero for a task, he may not be assigned to the task."
   ]
  },
  {
   "cell_type": "markdown",
   "metadata": {
    "collapsed": true
   },
   "source": [
    "Worker-task skill levels:\n",
    "    \n",
    "| Task      | Joe | Jack | Jim |\n",
    "|-----------|-----|------|-----|\n",
    "| masonry   |  9  | 5    | 0   | \n",
    "| carpentry |  7  | 0    | 5   | \n",
    "| plumbing  |  0  | 7    | 0   | \n",
    "| ceiling   |  5  | 8    | 0   | \n",
    "| roofing   |  6  | 7    | 0   | \n",
    "| painting  |  0  | 9    | 6   | \n",
    "| windows   |  8  | 0    | 5   | \n",
    "| façade    |  5  | 5    | 0   | \n",
    "| garden    |  5  | 5    | 9   | \n",
    "| moving    |  6  | 0    | 8   | "
   ]
  },
  {
   "cell_type": "markdown",
   "metadata": {
    "collapsed": true
   },
   "source": [
    "For Jack, if he performs the roofing task or facade task on a house, then he must perform the other task on that house. For Jim, if he performs the garden task or moving task on a house, then he must perform the other task on that house. For\n",
    "\n",
    "Joe, if he performs the masonry task or carpentry task on a house, then he must perform the other task on that house. Also, if Joe performs the carpentry task or roofing task on a house, then he must perform the other task on that house."
   ]
  },
  {
   "cell_type": "markdown",
   "metadata": {
    "collapsed": true
   },
   "source": [
    "## Step 1: Describe the problem\n",
    "The first step in modeling and solving the problem is to write a natural language description of the problem, identifying the decision variables and the constraints on these variables.\n",
    "\n",
    "* What is the known information in this problem ?\n",
    "\n",
    "   There are five houses to be built by three workers. For each house, there are ten house building tasks, each with a given size. For each task, there is a list of tasks that must be completed before the task can start. Each worker has a skill level associated with each task. There is an overall deadline for the work to be completed on the five houses.\n",
    "\n",
    "\n",
    "* What are the decision variables or unknowns in this problem ?\n",
    "\n",
    "   The unknown is the point in time that each task will start. Also, unknown is which worker will be assigned to each task.\n",
    "\n",
    "\n",
    "* What are the constraints on these variables ?\n",
    "\n",
    "   There are constraints that specify that a particular task may not begin until one or more given tasks have been completed. In addition, there are constraints that specify that each task must have one worker assigned to it, that a worker can be assigned to only one task at a time and that a worker can be assigned only to tasks for which he has some level of skill. There are pairs of tasks that if one task for a house is done by a particular worker, then the other task for that house must be done by the same worker.\n",
    "\n",
    "\n",
    "* What is the objective ?\n",
    "\n",
    "   The objective is to maximize the skill levels used."
   ]
  },
  {
   "cell_type": "markdown",
   "metadata": {
    "collapsed": true
   },
   "source": [
    "## Step 2: Prepare data\n",
    "In the related data file, the data provided includes the number of houses (NbHouses), the names of the workers (Workers), the names of the tasks (Tasks), the sizes of the tasks (Durations), the precedence relations (Precedences), and the overall deadline for the construction of the houses (Deadline).\n",
    "\n",
    "The data also includes a tupleset, Skills. Each tuple in the set consists of a worker, a task, and the skill level that the worker has for the task. In addition, there is a tupleset, Continuities, which is a set of triples (a pair of tasks and a worker). If one of the two tasks in a pair is performed by the worker for a given house, then the other task in the pair must be performed by the same worker for that house.\n",
    "\n",
    "Two matrices of interval variables are created in this model. \n",
    "The first, tasks, is indexed on the houses and tasks and must be scheduled in the interval [0..Deadline]. \n",
    "The other matrix of interval variables is indexed on the houses and the Skills tupleset. \n",
    "These interval variables are optional and may or may not be present in the solution. \n",
    "The intervals that are performed will represent which worker performs which task."
   ]
  },
  {
   "cell_type": "code",
   "execution_count": 61,
   "metadata": {},
   "outputs": [],
   "source": [
    "NbHouses = 5\n",
    "Deadline =  318\n",
    "\n",
    "Workers = [\"Joe\", \"Jack\", \"Jim\"]\n",
    "\n",
    "Tasks = [\"masonry\", \"carpentry\", \"plumbing\", \"ceiling\",\"roofing\", \"painting\", \"windows\", \"facade\",\"garden\", \"moving\"]\n",
    "\n",
    "Durations =  [35, 15, 40, 15, 5, 10, 5, 10, 5, 5]"
   ]
  },
  {
   "cell_type": "code",
   "execution_count": 62,
   "metadata": {},
   "outputs": [],
   "source": [
    "Skills = [(\"Joe\",\"masonry\",9),(\"Joe\",\"carpentry\",7),(\"Joe\",\"ceiling\",5),(\"Joe\",\"roofing\",6), \n",
    "          (\"Joe\",\"windows\",8),(\"Joe\",\"facade\",5),(\"Joe\",\"garden\",5),(\"Joe\",\"moving\",6),\n",
    "          (\"Jack\",\"masonry\",5),(\"Jack\",\"plumbing\",7),(\"Jack\",\"ceiling\",8),(\"Jack\",\"roofing\",7),\n",
    "          (\"Jack\",\"painting\",9),(\"Jack\",\"facade\",5),(\"Jack\",\"garden\",5),(\"Jim\",\"carpentry\",5),\n",
    "          (\"Jim\",\"painting\",6),(\"Jim\",\"windows\",5),(\"Jim\",\"garden\",9),(\"Jim\",\"moving\",8)]"
   ]
  },
  {
   "cell_type": "code",
   "execution_count": 63,
   "metadata": {},
   "outputs": [],
   "source": [
    "Precedences = [(\"masonry\",\"carpentry\"),(\"masonry\",\"plumbing\"),(\"masonry\",\"ceiling\"),\n",
    "               (\"carpentry\",\"roofing\"),(\"ceiling\",\"painting\"),(\"roofing\",\"windows\"),\n",
    "               (\"roofing\",\"facade\"),(\"plumbing\",\"facade\"),(\"roofing\",\"garden\"),\n",
    "               (\"plumbing\",\"garden\"),(\"windows\",\"moving\"),(\"facade\",\"moving\"),\n",
    "               (\"garden\",\"moving\"),(\"painting\",\"moving\")\n",
    "              ]\n",
    " \n",
    "Continuities = [(\"Joe\",\"masonry\",\"carpentry\"),(\"Jack\",\"roofing\",\"facade\"), \n",
    "                (\"Joe\",\"carpentry\", \"roofing\"),(\"Jim\",\"garden\",\"moving\")]"
   ]
  },
  {
   "cell_type": "code",
   "execution_count": 64,
   "metadata": {
    "scrolled": true
   },
   "outputs": [],
   "source": [
    "nbWorkers = len(Workers)\n",
    "Houses = range(NbHouses)"
   ]
  },
  {
   "cell_type": "markdown",
   "metadata": {
    "collapsed": true
   },
   "source": [
    "## Step 3: Create the interval variables"
   ]
  },
  {
   "cell_type": "code",
   "execution_count": 65,
   "metadata": {},
   "outputs": [],
   "source": [
    "import sys\n",
    "from docplex.cp.model import *"
   ]
  },
  {
   "cell_type": "code",
   "execution_count": 66,
   "metadata": {},
   "outputs": [],
   "source": [
    "mdl5 = CpoModel()"
   ]
  },
  {
   "cell_type": "code",
   "execution_count": 67,
   "metadata": {},
   "outputs": [],
   "source": [
    "tasks = {}\n",
    "wtasks = {}\n",
    "for h in Houses:\n",
    "    for i,t in enumerate(Tasks):\n",
    "        tasks[(h,t)] = mdl5.interval_var(start=[0,Deadline], size=Durations[i])\n",
    "    for s in Skills:\n",
    "        wtasks[(h,s)] = mdl5.interval_var(optional=True)"
   ]
  },
  {
   "cell_type": "markdown",
   "metadata": {
    "collapsed": true
   },
   "source": [
    "## Step 4: Add the temporal constraints"
   ]
  },
  {
   "cell_type": "markdown",
   "metadata": {},
   "source": [
    "The tasks in the model have precedence constraints that are added to the model."
   ]
  },
  {
   "cell_type": "code",
   "execution_count": 68,
   "metadata": {},
   "outputs": [],
   "source": [
    "for h in Houses:\n",
    "    for p in Precedences:\n",
    "        mdl5.add( mdl5.end_before_start(tasks[h,p[0]], tasks[h,p[1]]) )"
   ]
  },
  {
   "cell_type": "markdown",
   "metadata": {
    "collapsed": true
   },
   "source": [
    "## Step 5: Add the alternative constraints"
   ]
  },
  {
   "cell_type": "markdown",
   "metadata": {},
   "source": [
    "the specialized constraint *alternative()* is used to constrain the solution so that exactly one of the interval variables tasks associated with a given task of a given house is to be present in the solution, \n",
    "\n",
    "The constraint *alternative()* creates a constraint between an interval and a set of intervals that specifies that if the given interval is present in the solution, then exactly one interval variable of the set is present in the solution.\n",
    "\n",
    "In other words, consider an alternative constraint created with an interval variable *a* and an array of interval variables *bs*. If *a* is present in the solution, then exactly one of the interval variables in *bs* will be present, and *a* starts and ends together with this chosen interval."
   ]
  },
  {
   "cell_type": "code",
   "execution_count": 69,
   "metadata": {},
   "outputs": [],
   "source": [
    "for h in Houses:\n",
    "    for t in Tasks:\n",
    "        mdl5.add( mdl5.alternative(tasks[h,t], [wtasks[h,s] for s in Skills if s[1]==t]) )"
   ]
  },
  {
   "cell_type": "markdown",
   "metadata": {},
   "source": [
    "The expression *presence_of()* is used to represent whether a task is performed by a worker. \n",
    "The constraint *presence_of()* is true if the interval variable is present in and is false if the interval variable is absent from the solution.\n",
    "\n",
    "For each house and each given pair of tasks and worker that must have continuity, a constraint states that if the interval variable for one of the two tasks for the worker is present, the interval variable associated with that worker and the other task must also be present."
   ]
  },
  {
   "cell_type": "code",
   "execution_count": 70,
   "metadata": {},
   "outputs": [],
   "source": [
    "for h in Houses:\n",
    "    for c in Continuities:\n",
    "        for (worker1, task1, l1) in Skills:\n",
    "            if worker1 == c[0] and task1 == c[1]:\n",
    "                for (worker2, task2, l2) in Skills:\n",
    "                    if worker2 == c[0] and task2 == c[2]:\n",
    "                           mdl5.add(\n",
    "                               mdl5.presence_of(wtasks[h,(c[0], task1, l1)]) \n",
    "                               == \n",
    "                               mdl5.presence_of(wtasks[h,(c[0], task2, l2)])\n",
    "                           )"
   ]
  },
  {
   "cell_type": "markdown",
   "metadata": {
    "collapsed": true
   },
   "source": [
    "## Step 7: Add the no overlap constraints"
   ]
  },
  {
   "cell_type": "markdown",
   "metadata": {},
   "source": [
    "The constraint *no_overlap()* allows to specify that a given worker can be assigned only one task at a given moment in time."
   ]
  },
  {
   "cell_type": "code",
   "execution_count": 71,
   "metadata": {},
   "outputs": [],
   "source": [
    "for w in Workers:\n",
    "    mdl5.add( mdl5.no_overlap([wtasks[h,s] for h in Houses for s in Skills if s[0]==w]) )"
   ]
  },
  {
   "cell_type": "markdown",
   "metadata": {
    "collapsed": true
   },
   "source": [
    "## Step 8: Add the objective"
   ]
  },
  {
   "cell_type": "markdown",
   "metadata": {},
   "source": [
    "The presence of an interval variable in the solution must be accounted in the objective. Thus for each of these possible tasks, the cost is incremented by the product of the skill level and the expression representing the presence of the interval variable in the solution.\n",
    "The objective of this problem is to maximize the skill levels used for all the tasks, then to maximize the expression."
   ]
  },
  {
   "cell_type": "code",
   "execution_count": 72,
   "metadata": {},
   "outputs": [],
   "source": [
    "mdl5.add(\n",
    "    mdl5.maximize(\n",
    "        mdl5.sum( s[2] * mdl5.presence_of(wtasks[h,s]) for h in Houses for s in Skills)\n",
    "    )\n",
    ")"
   ]
  },
  {
   "cell_type": "markdown",
   "metadata": {},
   "source": [
    "## Step 9: Solve the model"
   ]
  },
  {
   "cell_type": "markdown",
   "metadata": {},
   "source": [
    "The search for an optimal solution in this problem could potentiality take a long time, so a fail limit has been placed on the solve process. The search will stop when the fail limit is reached, even if optimality of the current best solution is not guaranteed. "
   ]
  },
  {
   "cell_type": "code",
   "execution_count": 73,
   "metadata": {},
   "outputs": [
    {
     "name": "stdout",
     "output_type": "stream",
     "text": [
      "\n",
      "Solving model....\n",
      "done\n",
      "Cost will be 360\n"
     ]
    }
   ],
   "source": [
    "# Solve the model\n",
    "print(\"\\nSolving model....\")\n",
    "msol5 = mdl5.solve(url=url, key=key, FailLimit=30000)\n",
    "print(\"done\")\n",
    "\n",
    "print(\"Cost will be \"+str( msol5.get_objective_values()[0] ))"
   ]
  },
  {
   "cell_type": "code",
   "execution_count": 74,
   "metadata": {},
   "outputs": [],
   "source": [
    "worker_idx = {w : i for i,w in enumerate(Workers)}"
   ]
  },
  {
   "cell_type": "code",
   "execution_count": 75,
   "metadata": {},
   "outputs": [],
   "source": [
    "worker_tasks = [[] for w in range(nbWorkers)]  # Tasks assigned to a given worker\n",
    "for h in Houses:\n",
    "    for s in Skills:\n",
    "        worker = s[0]\n",
    "        wt = wtasks[(h,s)]\n",
    "        worker_tasks[worker_idx[worker]].append(wt)"
   ]
  },
  {
   "cell_type": "code",
   "execution_count": 76,
   "metadata": {},
   "outputs": [],
   "source": [
    "import docplex.cp.utils_visu as visu\n",
    "import matplotlib.pyplot as plt\n",
    "%matplotlib inline\n",
    "#Change the plot size\n",
    "from pylab import rcParams\n",
    "rcParams['figure.figsize'] = 15, 3"
   ]
  },
  {
   "cell_type": "code",
   "execution_count": 77,
   "metadata": {},
   "outputs": [
    {
     "data": {
      "image/png": "[encoded data removed]",
      "text/plain": [
       "<Figure size 1080x216 with 1 Axes>"
      ]
     },
     "metadata": {
      "needs_background": "light"
     },
     "output_type": "display_data"
    }
   ],
   "source": [
    "visu.timeline('Solution SchedOptional', 0, Deadline)\n",
    "for i,w in enumerate(Workers):\n",
    "    visu.sequence(name=w)\n",
    "    for t in worker_tasks[worker_idx[w]]:\n",
    "        wt = msol5.get_var_solution(t)\n",
    "        if wt.is_present():\n",
    "            #if desc[t].skills[w] == max(desc[t].skills):\n",
    "                # Green-like color when task is using the most skilled worker\n",
    "            #    color = 'lightgreen'\n",
    "            #else:\n",
    "                    # Red-like color when task does not use the most skilled worker\n",
    "            #    color = 'salmon'\n",
    "            color = 'salmon'\n",
    "            visu.interval(wt, color, wt.get_name())\n",
    "visu.show()"
   ]
  },
  {
   "cell_type": "markdown",
   "metadata": {
    "collapsed": true
   },
   "source": [
    "# Chapter 7. Using state functions: house building with state incompatibilities\n",
    "\n",
    "This chapter describes how to use state functions to take into account incompatible states as tasks finish. Following concepts are presented:\n",
    "* use the *stateFunction*,\n",
    "* use the constraint *alwaysEqual*.\n",
    "\n",
    "There are two workers, and each task requires either one of the two workers. \n",
    "A subset of the tasks require that the house be clean, whereas other tasks make the house dirty. \n",
    "A transition time is needed to change the state of the house from dirty to clean. "
   ]
  },
  {
   "cell_type": "markdown",
   "metadata": {
    "collapsed": true
   },
   "source": [
    "## Problem to be solved\n",
    "\n",
    "The problem consists of assigning start dates to a set of tasks in such a way that the schedule satisfies temporal constraints and minimizes an expression. The objective for this problem is to minimize the overall completion date.\n",
    "\n",
    "For each task type in the house building project, the following table shows the duration of the task in days along with state of the house during the task. A worker can only work on one task at a time; each task, once started, may not be interrupted."
   ]
  },
  {
   "cell_type": "markdown",
   "metadata": {
    "collapsed": true
   },
   "source": [
    "House construction tasks:\n",
    "     \n",
    "| Task      | Duration | State | Preceding tasks |\n",
    "|-----------|----------|-------|-----------------|\n",
    "| masonry   | 35       | dirty |                 | \n",
    "| carpentry | 15       | dirty | masonry         | \n",
    "| plumbing  | 40       | clean | masonry         | \n",
    "| ceiling   | 15       | clean | masonry         | \n",
    "| roofing   | 5        | dirty | carpentry       | \n",
    "| painting  | 10       | clean | ceiling         |\n",
    "| windows   | 5        | dirty | roofing         | \n",
    "| facade    | 10       |       | roofing, plumbing| \n",
    "| garden    | 5        |       | roofing, plumbing| \n",
    "| moving    | 5        |       | windows, facade,garden, painting| \n",
    "\n",
    "Solving the problem consists of determining starting dates for the tasks such that\n",
    "the overall completion date is minimized."
   ]
  },
  {
   "cell_type": "markdown",
   "metadata": {
    "collapsed": true
   },
   "source": [
    "## Step 1: Describe the problem\n",
    "\n",
    "The first step in modeling and solving the problem is to write a natural language description of the problem, identifying the decision variables and the constraints on these variables.\n",
    "\n",
    "* What is the known information in this problem ?\n",
    "\n",
    "   There are five houses to be built by two workers. For each house, there are ten house building tasks, each with a given size. For each task, there is a list of tasks that must be completed before the task can start. There are two workers. There is a transition time associated with changing the state of a house from dirty to clean.\n",
    "\n",
    "\n",
    "* What are the decision variables or unknowns in this problem ?\n",
    "\n",
    "   The unknowns are the date that each task will start. The cost is determined by the assigned start dates.\n",
    "\n",
    "\n",
    "* What are the constraints on these variables ?\n",
    "\n",
    "   There are constraints that specify that a particular task may not begin until one or more given tasks have been completed. Each task requires either one of the two workers. Some tasks have a specified house cleanliness state.\n",
    "\n",
    "\n",
    "* What is the objective ?\n",
    "\n",
    "   The objective is to minimize the overall completion date."
   ]
  },
  {
   "cell_type": "markdown",
   "metadata": {
    "collapsed": true
   },
   "source": [
    "## Step 2: Prepare data\n",
    "In the related data, the data provided includes the number of houses (NbHouses), the number of workers (NbWorkers), the names of the tasks (TaskNames), the sizes of the tasks (Duration), the precedence relations (Precedences), and the cleanliness state of each task (AllStates).\n",
    "\n",
    "Each house has a list of tasks that must be scheduled. The duration, or size, of each task *t* is *Duration[t]*. Using this information, a matrix task of interval variables can be built."
   ]
  },
  {
   "cell_type": "code",
   "execution_count": 78,
   "metadata": {},
   "outputs": [],
   "source": [
    "NbHouses = 5\n",
    "NbWorkers = 2\n",
    "AllStates = [\"clean\", \"dirty\"]\n",
    "\n",
    "TaskNames = [\"masonry\",\"carpentry\", \"plumbing\", \"ceiling\",\"roofing\",\"painting\",\"windows\",\"facade\",\"garden\",\"moving\"]\n",
    "\n",
    "Duration =  [35,15,40,15,5,10,5,10,5,5]\n",
    "\n",
    "States = [(\"masonry\",\"dirty\"),(\"carpentry\",\"dirty\"),(\"plumbing\",\"clean\"),\n",
    "          (\"ceiling\",\"clean\"),(\"roofing\",\"dirty\"),(\"painting\",\"clean\"),\n",
    "          (\"windows\",\"dirty\")]\n",
    "\n",
    "Precedences = [(\"masonry\",\"carpentry\"),(\"masonry\",\"plumbing\"),(\"masonry\",\"ceiling\"),\n",
    "               (\"carpentry\",\"roofing\"),(\"ceiling\",\"painting\"),(\"roofing\",\"windows\"),\n",
    "               (\"roofing\",\"facade\"),(\"plumbing\",\"facade\"),(\"roofing\",\"garden\"),\n",
    "               (\"plumbing\",\"garden\"),(\"windows\",\"moving\"),(\"facade\",\"moving\"),\n",
    "               (\"garden\",\"moving\"),(\"painting\",\"moving\")]"
   ]
  },
  {
   "cell_type": "code",
   "execution_count": 79,
   "metadata": {},
   "outputs": [],
   "source": [
    "Houses = range(NbHouses)"
   ]
  },
  {
   "cell_type": "markdown",
   "metadata": {
    "collapsed": true
   },
   "source": [
    "## Step 3: Create the interval variables"
   ]
  },
  {
   "cell_type": "code",
   "execution_count": 80,
   "metadata": {},
   "outputs": [],
   "source": [
    "import sys\n",
    "from docplex.cp.model import *"
   ]
  },
  {
   "cell_type": "code",
   "execution_count": 81,
   "metadata": {},
   "outputs": [],
   "source": [
    "mdl6 = CpoModel()"
   ]
  },
  {
   "cell_type": "code",
   "execution_count": 82,
   "metadata": {},
   "outputs": [],
   "source": [
    "task = {}\n",
    "for h in Houses:\n",
    "    for i,t in enumerate(TaskNames):\n",
    "        task[(h,t)] = mdl6.interval_var(size = Duration[i])"
   ]
  },
  {
   "cell_type": "markdown",
   "metadata": {
    "collapsed": true
   },
   "source": [
    "## Step 4: Declare the worker usage functions"
   ]
  },
  {
   "cell_type": "markdown",
   "metadata": {},
   "source": [
    "As in the example Chapter 5, “Using cumulative functions in the house building problem”, each task requires one worker from the start to the end of the task interval. To represent the fact that a worker is required for the task, a cumulative function expression *workers* is created. \n",
    "This function is constrained to not exceed the number of workers at any point in time.\n",
    "he function pulse adjusts the expression by a given amount on the interval. \n",
    "Summing these pulse atoms over all the interval variables results in an expression that represents worker usage over the entire time frame for building the houses."
   ]
  },
  {
   "cell_type": "code",
   "execution_count": 83,
   "metadata": {},
   "outputs": [],
   "source": [
    "workers = step_at(0, 0)\n",
    "for h in Houses:\n",
    "    for t in TaskNames:\n",
    "        workers += mdl6.pulse(task[h,t], 1)"
   ]
  },
  {
   "cell_type": "markdown",
   "metadata": {
    "collapsed": true
   },
   "source": [
    "## Step 5: Create the transition times"
   ]
  },
  {
   "cell_type": "markdown",
   "metadata": {},
   "source": [
    "The transition time from a dirty state to a clean state is the same for all houses. \n",
    "As in the example Chapter 3, “Adding workers and transition times to the house building problem”, a tupleset *ttime* is created to represent the transition time between cleanliness states."
   ]
  },
  {
   "cell_type": "code",
   "execution_count": 84,
   "metadata": {},
   "outputs": [],
   "source": [
    "Index = {s : i for i,s in enumerate(AllStates)}"
   ]
  },
  {
   "cell_type": "code",
   "execution_count": 85,
   "metadata": {},
   "outputs": [],
   "source": [
    "ttime = CpoTransitionMatrix(name='TTime', size=2)\n",
    "ttime.set_value(Index[\"dirty\"], Index[\"clean\"], 1)\n",
    "ttime.set_value(Index[\"clean\"], Index[\"dirty\"], 0)"
   ]
  },
  {
   "cell_type": "markdown",
   "metadata": {
    "collapsed": true
   },
   "source": [
    "## Step 6: Declare the state function"
   ]
  },
  {
   "cell_type": "markdown",
   "metadata": {},
   "source": [
    "Certain tasks require the house to be clean, and other tasks cause the house to be dirty. \n",
    "To model the possible states of the house, the state function *function* is used to represent the disjoint states through time.\n",
    "\n",
    "A state function is a function describing the evolution of a given feature of the environment. \n",
    "The possible evolution of this feature is constrained by interval variables of the problem. \n",
    "For example, a scheduling problem may contain a resource whose state changes over time. \n",
    "The resource state can change because of scheduled activities or because of exogenous events; some activities in the schedule may need a particular resource state in order to execute.\n",
    "Interval variables have an absolute effect on a state function, requiring the function value to be equal to a particular state or in a set of possible states."
   ]
  },
  {
   "cell_type": "code",
   "execution_count": 86,
   "metadata": {},
   "outputs": [],
   "source": [
    "state = { h : state_function(ttime, name=\"house\"+str(h)) for h in Houses}"
   ]
  },
  {
   "cell_type": "markdown",
   "metadata": {
    "collapsed": true
   },
   "source": [
    "## Step 7: Add the constraints"
   ]
  },
  {
   "cell_type": "markdown",
   "metadata": {},
   "source": [
    "To model the state required or imposed by a task, a constraint is created to specifies the state of the house throughout the interval variable representing that task.\n",
    "\n",
    "The constraint *always_equal()*, specifies the value of a state function over the interval variable.\n",
    "The constraint takes as parameters a state function, an interval variable, and a state value.\n",
    "Whenever the interval variable is present, the state function is defined everywhere between the start and the end of the interval variable and remains equal to the specified state value over this interval.\n",
    "The state function is constrained to take the appropriate values during the tasks that require the house to be in a specific state.\n",
    "To add the constraint that there can be only two workers working at a given time, the cumulative function expression representing worker usage is constrained to not be greater than the value *NbWorkers*."
   ]
  },
  {
   "cell_type": "code",
   "execution_count": 87,
   "metadata": {},
   "outputs": [],
   "source": [
    "for h in Houses:\n",
    "    for p in Precedences:\n",
    "        mdl6.add( mdl6.end_before_start(task[h,p[0]], task[h,p[1]]) )\n",
    "\n",
    "    for s in States:\n",
    "        mdl6.add( mdl6.always_equal(state[h], task[h,s[0]], Index[s[1]]) )\n",
    "\n",
    "mdl6.add( workers <= NbWorkers )"
   ]
  },
  {
   "cell_type": "markdown",
   "metadata": {
    "collapsed": true
   },
   "source": [
    "## Step 8: Add the objective"
   ]
  },
  {
   "cell_type": "markdown",
   "metadata": {
    "collapsed": true
   },
   "source": [
    "The objective of this problem is to minimize the overall completion date (the completion date of the house that is completed last)."
   ]
  },
  {
   "cell_type": "code",
   "execution_count": 88,
   "metadata": {},
   "outputs": [],
   "source": [
    "mdl6.add(\n",
    "    mdl6.minimize( mdl6.max( mdl6.end_of(task[h,\"moving\"]) for h in Houses ) \n",
    "                 )\n",
    ")"
   ]
  },
  {
   "cell_type": "markdown",
   "metadata": {},
   "source": [
    "## Step 9: Solve the model"
   ]
  },
  {
   "cell_type": "markdown",
   "metadata": {
    "collapsed": true
   },
   "source": [
    "The search for an optimal solution in this problem could potentiality take a long time, so a fail limit has been placed on the solve process. The search will stop when the fail limit is reached, even if optimality of the current best solution is not guaranteed. \n",
    "The code for limiting the solve process is given below:"
   ]
  },
  {
   "cell_type": "code",
   "execution_count": 89,
   "metadata": {},
   "outputs": [
    {
     "name": "stdout",
     "output_type": "stream",
     "text": [
      "\n",
      "Solving model....\n",
      "done\n",
      "Cost will be 365\n"
     ]
    }
   ],
   "source": [
    "# Solve the model\n",
    "print(\"\\nSolving model....\")\n",
    "msol6 = mdl6.solve(url=url, key=key, FailLimit=30000)\n",
    "print(\"done\")\n",
    "\n",
    "print(\"Cost will be \"+str( msol6.get_objective_values()[0] ))"
   ]
  },
  {
   "cell_type": "code",
   "execution_count": 90,
   "metadata": {},
   "outputs": [],
   "source": [
    "import docplex.cp.utils_visu as visu\n",
    "import matplotlib.pyplot as plt\n",
    "%matplotlib inline\n",
    "#Change the plot size\n",
    "from pylab import rcParams\n",
    "rcParams['figure.figsize'] = 15, 3"
   ]
  },
  {
   "cell_type": "code",
   "execution_count": 91,
   "metadata": {},
   "outputs": [
    {
     "data": {
      "image/png": "[encoded data removed]",
      "text/plain": [
       "<Figure size 1080x216 with 3 Axes>"
      ]
     },
     "metadata": {
      "needs_background": "light"
     },
     "output_type": "display_data"
    }
   ],
   "source": [
    "workers_function = CpoStepFunction()\n",
    "for h in Houses:\n",
    "    for t in TaskNames:\n",
    "        itv = msol6.get_var_solution(task[h,t])\n",
    "        workers_function.add_value(itv.get_start(), itv.get_end(), 1)\n",
    "\n",
    "visu.timeline('Solution SchedState')\n",
    "visu.panel(name=\"Schedule\")\n",
    "for h in Houses:\n",
    "    for t in TaskNames:\n",
    "        visu.interval(msol6.get_var_solution(task[h,t]), h, t)\n",
    "    \n",
    "\n",
    "visu.panel(name=\"Houses state\")\n",
    "for h in Houses:\n",
    "    f = state[h]\n",
    "    visu.sequence(name=f.get_name(), segments=msol6.get_var_solution(f))\n",
    "visu.panel(name=\"Nb of workers\")\n",
    "visu.function(segments=workers_function, style='line')\n",
    "visu.show()"
   ]
  },
  {
   "cell_type": "markdown",
   "metadata": {},
   "source": [
    "# Summary\n",
    "\n",
    "Having completed this notebook, the reader should be able to:\n",
    "- Describe the characteristics of a Scheduling problem in terms of the objective, decision variables and constraints\n",
    "- Formulate a simple Scheduling model on paper\n",
    "- Conceptually explain the buidling blocks of a scheduling model\n",
    "- Write a simple model with docplex\n"
   ]
  },
  {
   "cell_type": "markdown",
   "metadata": {},
   "source": [
    "## References\n",
    "* [CPLEX Modeling for Python documentation](https://rawgit.com/IBMDecisionOptimization/docplex-doc/master/docs/index.html)\n",
    "* [Decision Optimization on Cloud](https://developer.ibm.com/docloud/)\n",
    "* Need help with DOcplex or to report a bug? Please go [here](https://developer.ibm.com/answers/smartspace/docloud).\n",
    "* Contact us at dofeedback@wwpdl.vnet.ibm.com."
   ]
  }
 ],
 "metadata": {
  "anaconda-cloud": {},
  "kernelspec": {
   "display_name": "Python 3",
   "language": "python",
   "name": "python3"
  },
  "language_info": {
   "codemirror_mode": {
    "name": "ipython",
    "version": 3
   },
   "file_extension": ".py",
   "mimetype": "text/x-python",
   "name": "python",
   "nbconvert_exporter": "python",
   "pygments_lexer": "ipython3",
   "version": "3.6.1"
  }
 },
 "nbformat": 4,
 "nbformat_minor": 1
}
